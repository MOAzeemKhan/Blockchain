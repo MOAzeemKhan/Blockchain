{
  "nbformat": 4,
  "nbformat_minor": 0,
  "metadata": {
    "colab": {
      "provenance": []
    },
    "kernelspec": {
      "name": "python3",
      "display_name": "Python 3"
    },
    "language_info": {
      "name": "python"
    }
  },
  "cells": [
    {
      "cell_type": "markdown",
      "source": [
        "# Proof Of Stake (POS)"
      ],
      "metadata": {
        "id": "AxuNl3CvhhS8"
      }
    },
    {
      "cell_type": "code",
      "source": [
        "!pip install flask-ngrok"
      ],
      "metadata": {
        "colab": {
          "base_uri": "https://localhost:8080/"
        },
        "id": "7v2mWwr6lkEP",
        "outputId": "0695ba0f-d951-4d3a-9417-d374ecf0d4ed"
      },
      "execution_count": null,
      "outputs": [
        {
          "output_type": "stream",
          "name": "stdout",
          "text": [
            "Collecting flask-ngrok\n",
            "  Downloading flask_ngrok-0.0.25-py3-none-any.whl (3.1 kB)\n",
            "Requirement already satisfied: Flask>=0.8 in /usr/local/lib/python3.10/dist-packages (from flask-ngrok) (2.2.5)\n",
            "Requirement already satisfied: requests in /usr/local/lib/python3.10/dist-packages (from flask-ngrok) (2.31.0)\n",
            "Requirement already satisfied: Werkzeug>=2.2.2 in /usr/local/lib/python3.10/dist-packages (from Flask>=0.8->flask-ngrok) (3.0.1)\n",
            "Requirement already satisfied: Jinja2>=3.0 in /usr/local/lib/python3.10/dist-packages (from Flask>=0.8->flask-ngrok) (3.1.3)\n",
            "Requirement already satisfied: itsdangerous>=2.0 in /usr/local/lib/python3.10/dist-packages (from Flask>=0.8->flask-ngrok) (2.1.2)\n",
            "Requirement already satisfied: click>=8.0 in /usr/local/lib/python3.10/dist-packages (from Flask>=0.8->flask-ngrok) (8.1.7)\n",
            "Requirement already satisfied: charset-normalizer<4,>=2 in /usr/local/lib/python3.10/dist-packages (from requests->flask-ngrok) (3.3.2)\n",
            "Requirement already satisfied: idna<4,>=2.5 in /usr/local/lib/python3.10/dist-packages (from requests->flask-ngrok) (3.6)\n",
            "Requirement already satisfied: urllib3<3,>=1.21.1 in /usr/local/lib/python3.10/dist-packages (from requests->flask-ngrok) (2.0.7)\n",
            "Requirement already satisfied: certifi>=2017.4.17 in /usr/local/lib/python3.10/dist-packages (from requests->flask-ngrok) (2024.2.2)\n",
            "Requirement already satisfied: MarkupSafe>=2.0 in /usr/local/lib/python3.10/dist-packages (from Jinja2>=3.0->Flask>=0.8->flask-ngrok) (2.1.5)\n",
            "Installing collected packages: flask-ngrok\n",
            "Successfully installed flask-ngrok-0.0.25\n"
          ]
        }
      ]
    },
    {
      "cell_type": "code",
      "source": [
        "!ngrok authtoken \"2c1xgWZrQzE2OzBdYwaLOjxx83I_6Npz9NQtR33FaSpQamJnY\""
      ],
      "metadata": {
        "colab": {
          "base_uri": "https://localhost:8080/"
        },
        "id": "BN1yodV7l9cG",
        "outputId": "f271d9f4-47ad-4bc6-e34a-f53934ac674b"
      },
      "execution_count": null,
      "outputs": [
        {
          "output_type": "stream",
          "name": "stdout",
          "text": [
            "/bin/bash: line 1: ngrok: command not found\n"
          ]
        }
      ]
    },
    {
      "cell_type": "code",
      "source": [
        "import hashlib\n",
        "import random\n",
        "import datetime\n",
        "import time\n",
        "import json\n",
        "from collections import OrderedDict"
      ],
      "metadata": {
        "id": "O_KhKNhfhEfJ"
      },
      "execution_count": null,
      "outputs": []
    },
    {
      "cell_type": "code",
      "source": [
        "class Block:\n",
        "    def __init__(self, index, timestamp, data, previous_hash):\n",
        "        self.index = index\n",
        "        self.timestamp = timestamp\n",
        "        self.data = data\n",
        "        self.previous_hash = previous_hash\n",
        "        self.nonce = 0\n",
        "        self.hash = self.calculate_hash()\n",
        "\n",
        "    def calculate_hash(self):\n",
        "        return hashlib.sha256((str(self.index) + str(self.timestamp) + str(self.data) + str(self.previous_hash) + str(self.nonce)).encode()).hexdigest()\n",
        "\n",
        "    def mine_block(self, difficulty):\n",
        "        while self.hash[:difficulty] != '0' * difficulty:\n",
        "            self.nonce += 1\n",
        "            self.hash = self.calculate_hash()\n",
        "        print(\"Block mined: \" + self.hash)"
      ],
      "metadata": {
        "id": "0Qyh88b_hKLR"
      },
      "execution_count": null,
      "outputs": []
    },
    {
      "cell_type": "code",
      "execution_count": null,
      "metadata": {
        "id": "u9crf4AAg0bb"
      },
      "outputs": [],
      "source": [
        "class Blockchain:\n",
        "    def __init__(self):\n",
        "        self.chain = [self.create_genesis_block()]\n",
        "        self.difficulty = 2  # Set the difficulty level for mining\n",
        "\n",
        "    def create_genesis_block(self):\n",
        "        return Block(0, \"01/01/2022\", \"Genesis Block\", \"0\")\n",
        "\n",
        "    def get_latest_block(self):\n",
        "        return self.chain[-1]\n",
        "\n",
        "    def add_block(self, new_block):\n",
        "        new_block.previous_hash = self.get_latest_block().hash\n",
        "        new_block.mine_block(self.difficulty)\n",
        "        self.chain.append(new_block)\n",
        "\n",
        "    def is_chain_valid(self):\n",
        "        for i in range(1, len(self.chain)):\n",
        "            current_block = self.chain[i]\n",
        "            previous_block = self.chain[i - 1]\n",
        "            if current_block.hash != current_block.calculate_hash():\n",
        "                return False\n",
        "            if current_block.previous_hash != previous_block.hash:\n",
        "                return False\n",
        "        return True"
      ]
    },
    {
      "cell_type": "code",
      "source": [
        "class Stakeholder:\n",
        "    def __init__(self, name, balance):\n",
        "        self.name = name\n",
        "        self.balance = balance\n",
        "\n",
        "    def stake(self, blockchain, data):\n",
        "        if self.balance <= 0:\n",
        "            print(\"Insufficient balance to stake.\")\n",
        "            return\n",
        "        new_block = Block(len(blockchain.chain), str(datetime.datetime.now()), data, blockchain.get_latest_block().hash)\n",
        "        blockchain.add_block(new_block)\n",
        "        self.balance -= 1  # Assuming 1 token per block mined\n",
        "        print(f\"{self.name} staked a block with data: {data}\")"
      ],
      "metadata": {
        "id": "xLqjIWSLhNe7"
      },
      "execution_count": null,
      "outputs": []
    },
    {
      "cell_type": "code",
      "source": [
        "# Create a blockchain\n",
        "blockchain = Blockchain()\n",
        "\n",
        "# Create stakeholders\n",
        "stakeholder1 = Stakeholder(\"Azeem\", 10)\n",
        "stakeholder2 = Stakeholder(\"Rishabh\", 5)\n",
        "\n",
        "# Stake blocks\n",
        "stakeholder1.stake(blockchain, \"Transaction data 1\")\n",
        "stakeholder2.stake(blockchain, \"Transaction data 2\")\n",
        "\n",
        "# Check blockchain validity\n",
        "print(\"Is blockchain valid?\", blockchain.is_chain_valid())\n",
        "\n",
        "# Print blockchain\n",
        "for block in blockchain.chain:\n",
        "    print(\"Block Hash:\", block.hash)\n",
        "    print(\"Previous Hash:\", block.previous_hash)\n",
        "    print(\"Data:\", block.data)\n",
        "    print(\"Timestamp:\", block.timestamp)\n",
        "    print(\"----------------------\")\n"
      ],
      "metadata": {
        "colab": {
          "base_uri": "https://localhost:8080/"
        },
        "id": "dVVdNHqHg4y_",
        "outputId": "88c38fef-da0c-4ef2-bd36-57c574c2a73d"
      },
      "execution_count": null,
      "outputs": [
        {
          "output_type": "stream",
          "name": "stdout",
          "text": [
            "Block mined: 00760c91555f6e78b50971187ae08b48b919058677a4f66b4cc2f5520589121c\n",
            "Azeem staked a block with data: Transaction data 1\n",
            "Block mined: 00dba6798c00c4a58a67feb099f8a656318134d2452432ed0c28c15aae82a46f\n",
            "Rishabh staked a block with data: Transaction data 2\n",
            "Is blockchain valid? True\n",
            "Block Hash: f9bdf816d25f9dba2ecc1b35f3a2c509db25a2335beba1e3980da36ad33868a7\n",
            "Previous Hash: 0\n",
            "Data: Genesis Block\n",
            "Timestamp: 01/01/2022\n",
            "----------------------\n",
            "Block Hash: 00760c91555f6e78b50971187ae08b48b919058677a4f66b4cc2f5520589121c\n",
            "Previous Hash: f9bdf816d25f9dba2ecc1b35f3a2c509db25a2335beba1e3980da36ad33868a7\n",
            "Data: Transaction data 1\n",
            "Timestamp: 2024-02-07 07:43:47.094529\n",
            "----------------------\n",
            "Block Hash: 00dba6798c00c4a58a67feb099f8a656318134d2452432ed0c28c15aae82a46f\n",
            "Previous Hash: 00760c91555f6e78b50971187ae08b48b919058677a4f66b4cc2f5520589121c\n",
            "Data: Transaction data 2\n",
            "Timestamp: 2024-02-07 07:43:47.094866\n",
            "----------------------\n"
          ]
        }
      ]
    },
    {
      "cell_type": "markdown",
      "source": [
        "# Proof Of Elapsed Time (POET)\n",
        "\n",
        "It is used on permissioned blockchain networks to decide the mining rights or the block winners on the network.\n",
        "Nodes here can run a special instruction that generates a random wait time. This wait time is unique for each node and is proportional to the node's processing power."
      ],
      "metadata": {
        "id": "uHbHvMRDjGHS"
      }
    },
    {
      "cell_type": "code",
      "source": [
        "class Block:\n",
        "    def __init__(self, index, timestamp, data, previous_hash, nonce):\n",
        "        self.index = index\n",
        "        self.timestamp = timestamp\n",
        "        self.data = data\n",
        "        self.previous_hash = previous_hash\n",
        "        self.nonce = nonce\n",
        "        self.hash = self.calculate_hash()\n",
        "\n",
        "    def calculate_hash(self):\n",
        "        return hashlib.sha256((str(self.index) + str(self.timestamp) + str(self.data) + str(self.previous_hash) + str(self.nonce)).encode()).hexdigest()"
      ],
      "metadata": {
        "id": "lU_VZ8CMjszi"
      },
      "execution_count": null,
      "outputs": []
    },
    {
      "cell_type": "code",
      "source": [
        "class Blockchain:\n",
        "    def __init__(self):\n",
        "        self.chain = [self.create_genesis_block()]\n",
        "        self.difficulty = 2  # Set the difficulty level for mining\n",
        "\n",
        "    def create_genesis_block(self):\n",
        "        return Block(0, \"01/01/2022\", \"Genesis Block\", \"0\", 0)\n",
        "\n",
        "    def get_latest_block(self):\n",
        "        return self.chain[-1]\n",
        "\n",
        "    def add_block(self, new_block):\n",
        "        new_block.previous_hash = self.get_latest_block().hash\n",
        "        self.chain.append(new_block)\n",
        "\n",
        "    def is_chain_valid(self):\n",
        "        for i in range(1, len(self.chain)):\n",
        "            current_block = self.chain[i]\n",
        "            previous_block = self.chain[i - 1]\n",
        "            if current_block.hash != current_block.calculate_hash():\n",
        "                return False\n",
        "            if current_block.previous_hash != previous_block.hash:\n",
        "                return False\n",
        "        return True"
      ],
      "metadata": {
        "id": "G2aRk9mZjv0C"
      },
      "execution_count": null,
      "outputs": []
    },
    {
      "cell_type": "code",
      "source": [
        "class PoETNode:\n",
        "    def __init__(self, name, blockchain):\n",
        "        self.name = name\n",
        "        self.blockchain = blockchain\n",
        "\n",
        "    def generate_wait_time(self):\n",
        "        # Simulate a random wait time proportional to node's processing power\n",
        "        wait_time = random.randint(1, 10)  # Random wait time between 1 to 10 seconds\n",
        "        return wait_time\n",
        "\n",
        "    def mine_block(self, data):\n",
        "        wait_time = self.generate_wait_time()\n",
        "        print(f\"{self.name} will wait for {wait_time} seconds before mining.\")\n",
        "        time.sleep(wait_time)\n",
        "        nonce = random.randint(0, 1000000)\n",
        "        new_block = Block(len(self.blockchain.chain), str(time.time()), data, self.blockchain.get_latest_block().hash, nonce)\n",
        "        self.blockchain.add_block(new_block)\n",
        "        print(f\"{self.name} mined a block with data: {data}\")"
      ],
      "metadata": {
        "id": "Aho-8w3-jVTC"
      },
      "execution_count": null,
      "outputs": []
    },
    {
      "cell_type": "code",
      "source": [
        "blockchain = Blockchain()\n",
        "\n",
        "node1 = PoETNode(\"Node1\", blockchain)\n",
        "node2 = PoETNode(\"Node2\", blockchain)\n",
        "\n",
        "node1.mine_block(\"Transaction data 1\")\n",
        "node2.mine_block(\"Transaction data 2\")\n",
        "\n",
        "print(\"Is blockchain valid?\", blockchain.is_chain_valid())\n",
        "\n",
        "for block in blockchain.chain:\n",
        "    print(\"Block Hash:\", block.hash)\n",
        "    print(\"Previous Hash:\", block.previous_hash)\n",
        "    print(\"Data:\", block.data)\n",
        "    print(\"Timestamp:\", block.timestamp)\n",
        "    print(\"----------------------\")\n"
      ],
      "metadata": {
        "colab": {
          "base_uri": "https://localhost:8080/"
        },
        "id": "lAO4_HdmjgeC",
        "outputId": "87a63c6d-6977-4139-b757-5f0bee7eb45f"
      },
      "execution_count": null,
      "outputs": [
        {
          "output_type": "stream",
          "name": "stdout",
          "text": [
            "Node1 will wait for 7 seconds before mining.\n",
            "Node1 mined a block with data: Transaction data 1\n",
            "Node2 will wait for 4 seconds before mining.\n",
            "Node2 mined a block with data: Transaction data 2\n",
            "Is blockchain valid? True\n",
            "Block Hash: f9bdf816d25f9dba2ecc1b35f3a2c509db25a2335beba1e3980da36ad33868a7\n",
            "Previous Hash: 0\n",
            "Data: Genesis Block\n",
            "Timestamp: 01/01/2022\n",
            "----------------------\n",
            "Block Hash: 612a65fbdfdf496c66335cee20455401bbb7226b4ee0f5fcfd40965b5480e468\n",
            "Previous Hash: f9bdf816d25f9dba2ecc1b35f3a2c509db25a2335beba1e3980da36ad33868a7\n",
            "Data: Transaction data 1\n",
            "Timestamp: 1707292467.3841782\n",
            "----------------------\n",
            "Block Hash: 601eff6e443009ea1b1e8001c027cf9f56cd66a1ecb02d209b76e33a9b1644b7\n",
            "Previous Hash: 612a65fbdfdf496c66335cee20455401bbb7226b4ee0f5fcfd40965b5480e468\n",
            "Data: Transaction data 2\n",
            "Timestamp: 1707292471.3885844\n",
            "----------------------\n"
          ]
        }
      ]
    },
    {
      "cell_type": "markdown",
      "source": [
        "#"
      ],
      "metadata": {
        "id": "rocCqYw7j9hV"
      }
    },
    {
      "cell_type": "markdown",
      "source": [
        "# Practical Byzantine Fault Tolerance(PBFT)\n",
        "Used to reach consensus(agreement on the same value) even when some of the nodes in the network fail to respond or respond with incorrect information."
      ],
      "metadata": {
        "id": "ycHRWUCrkRnT"
      }
    },
    {
      "cell_type": "markdown",
      "source": [
        "## Referred Github:\n",
        "https://github.com/hyperledger-labs/bdls/tree/main\n",
        "\n",
        "## Referred Paper:\n",
        "https://dl.acm.org/doi/10.1145/3538227\n"
      ],
      "metadata": {
        "id": "Iz1ocRpzpmvg"
      }
    },
    {
      "cell_type": "code",
      "source": [
        "!apt-get install -y golang-go"
      ],
      "metadata": {
        "colab": {
          "base_uri": "https://localhost:8080/"
        },
        "id": "C6YMM6n2d-GR",
        "outputId": "5552a841-da3e-49de-a332-997d4eca1875"
      },
      "execution_count": 18,
      "outputs": [
        {
          "output_type": "stream",
          "name": "stdout",
          "text": [
            "Reading package lists... Done\n",
            "Building dependency tree... Done\n",
            "Reading state information... Done\n",
            "The following additional packages will be installed:\n",
            "  golang-1.18-go golang-1.18-src golang-src\n",
            "Suggested packages:\n",
            "  bzr | brz mercurial subversion\n",
            "The following NEW packages will be installed:\n",
            "  golang-1.18-go golang-1.18-src golang-go golang-src\n",
            "0 upgraded, 4 newly installed, 0 to remove and 32 not upgraded.\n",
            "Need to get 82.3 MB of archives.\n",
            "After this operation, 436 MB of additional disk space will be used.\n",
            "Get:1 http://archive.ubuntu.com/ubuntu jammy-updates/main amd64 golang-1.18-src all 1.18.1-1ubuntu1.1 [16.2 MB]\n",
            "Get:2 http://archive.ubuntu.com/ubuntu jammy-updates/main amd64 golang-1.18-go amd64 1.18.1-1ubuntu1.1 [66.0 MB]\n",
            "Get:3 http://archive.ubuntu.com/ubuntu jammy/main amd64 golang-src all 2:1.18~0ubuntu2 [4,438 B]\n",
            "Get:4 http://archive.ubuntu.com/ubuntu jammy/main amd64 golang-go amd64 2:1.18~0ubuntu2 [41.8 kB]\n",
            "Fetched 82.3 MB in 2s (42.7 MB/s)\n",
            "Selecting previously unselected package golang-1.18-src.\n",
            "(Reading database ... 121749 files and directories currently installed.)\n",
            "Preparing to unpack .../golang-1.18-src_1.18.1-1ubuntu1.1_all.deb ...\n",
            "Unpacking golang-1.18-src (1.18.1-1ubuntu1.1) ...\n",
            "Selecting previously unselected package golang-1.18-go.\n",
            "Preparing to unpack .../golang-1.18-go_1.18.1-1ubuntu1.1_amd64.deb ...\n",
            "Unpacking golang-1.18-go (1.18.1-1ubuntu1.1) ...\n",
            "Selecting previously unselected package golang-src.\n",
            "Preparing to unpack .../golang-src_2%3a1.18~0ubuntu2_all.deb ...\n",
            "Unpacking golang-src (2:1.18~0ubuntu2) ...\n",
            "Selecting previously unselected package golang-go:amd64.\n",
            "Preparing to unpack .../golang-go_2%3a1.18~0ubuntu2_amd64.deb ...\n",
            "Unpacking golang-go:amd64 (2:1.18~0ubuntu2) ...\n",
            "Setting up golang-1.18-src (1.18.1-1ubuntu1.1) ...\n",
            "Setting up golang-src (2:1.18~0ubuntu2) ...\n",
            "Setting up golang-1.18-go (1.18.1-1ubuntu1.1) ...\n",
            "Setting up golang-go:amd64 (2:1.18~0ubuntu2) ...\n",
            "Processing triggers for man-db (2.10.2-1) ...\n"
          ]
        }
      ]
    },
    {
      "cell_type": "code",
      "source": [
        "!go version"
      ],
      "metadata": {
        "colab": {
          "base_uri": "https://localhost:8080/"
        },
        "id": "wNcBbBnjeBkd",
        "outputId": "47ca5379-0a98-416d-a655-6cde5ab370fa"
      },
      "execution_count": 19,
      "outputs": [
        {
          "output_type": "stream",
          "name": "stdout",
          "text": [
            "go version go1.18.1 linux/amd64\n"
          ]
        }
      ]
    },
    {
      "cell_type": "code",
      "source": [
        "!git clone https://github.com/hyperledger-labs/bdls.git"
      ],
      "metadata": {
        "colab": {
          "base_uri": "https://localhost:8080/"
        },
        "id": "_5YYN8tVbZYi",
        "outputId": "b4b606ba-62d9-48c2-ebf2-21866696a182"
      },
      "execution_count": 1,
      "outputs": [
        {
          "output_type": "stream",
          "name": "stdout",
          "text": [
            "Cloning into 'bdls'...\n",
            "remote: Enumerating objects: 433, done.\u001b[K\n",
            "remote: Counting objects: 100% (77/77), done.\u001b[K\n",
            "remote: Compressing objects: 100% (48/48), done.\u001b[K\n",
            "remote: Total 433 (delta 33), reused 52 (delta 22), pack-reused 356\u001b[K\n",
            "Receiving objects: 100% (433/433), 11.78 MiB | 24.27 MiB/s, done.\n",
            "Resolving deltas: 100% (88/88), done.\n"
          ]
        }
      ]
    },
    {
      "cell_type": "code",
      "source": [
        "%cd bdls"
      ],
      "metadata": {
        "colab": {
          "base_uri": "https://localhost:8080/"
        },
        "id": "5droEcyXbhmz",
        "outputId": "8dbd8165-54e3-4134-8d80-46f3a8bafb4f"
      },
      "execution_count": 9,
      "outputs": [
        {
          "output_type": "stream",
          "name": "stdout",
          "text": [
            "/content/bdls\n"
          ]
        }
      ]
    },
    {
      "cell_type": "code",
      "source": [
        "!cd cmd/emucon/"
      ],
      "metadata": {
        "id": "S_5GSeZvbhjW"
      },
      "execution_count": 11,
      "outputs": []
    },
    {
      "cell_type": "code",
      "source": [
        "!pwd"
      ],
      "metadata": {
        "colab": {
          "base_uri": "https://localhost:8080/"
        },
        "id": "frRvrkoectRP",
        "outputId": "3c46c08d-d159-47d4-af90-c512f1bb1d40"
      },
      "execution_count": 21,
      "outputs": [
        {
          "output_type": "stream",
          "name": "stdout",
          "text": [
            "/content/bdls/cmd/emucon\n"
          ]
        }
      ]
    },
    {
      "cell_type": "code",
      "source": [
        "%cd cmd/emucon/"
      ],
      "metadata": {
        "colab": {
          "base_uri": "https://localhost:8080/"
        },
        "id": "7QPtWX3Hc-k6",
        "outputId": "477c522c-ae5b-4b6d-dfff-df88c72a74ff"
      },
      "execution_count": 16,
      "outputs": [
        {
          "output_type": "stream",
          "name": "stdout",
          "text": [
            "/content/bdls/cmd/emucon\n"
          ]
        }
      ]
    },
    {
      "cell_type": "code",
      "source": [
        "!go build ."
      ],
      "metadata": {
        "id": "t5mNDJNgbusg"
      },
      "execution_count": 20,
      "outputs": []
    },
    {
      "cell_type": "code",
      "source": [
        "! ./emucon run --help"
      ],
      "metadata": {
        "colab": {
          "base_uri": "https://localhost:8080/"
        },
        "id": "Jst3ItYubuos",
        "outputId": "d40c522e-c432-4758-95b9-3f87194f20f5"
      },
      "execution_count": 22,
      "outputs": [
        {
          "output_type": "stream",
          "name": "stdout",
          "text": [
            "NAME:\n",
            "   emucon run - start a consensus agent\n",
            "\n",
            "USAGE:\n",
            "   emucon run [command options] [arguments...]\n",
            "\n",
            "OPTIONS:\n",
            "   --listen value  the client's listening port (default: \":4680\")\n",
            "   --id value      the node id, will use the n-th private key in quorum.json (default: 0)\n",
            "   --config value  the shared quorum config file (default: \"./quorum.json\")\n",
            "   --peers value   all peers's ip:port list to connect, as a json array (default: \"./peers.json\")\n",
            "   --help, -h      show help (default: false)\n",
            "   \n"
          ]
        }
      ]
    },
    {
      "cell_type": "markdown",
      "source": [
        "![1.png](data:image/png;base64,iVBORw0KGgoAAAANSUhEUgAAA3gAAAEQCAYAAADiVtZQAAAAAXNSR0IArs4c6QAAAARnQU1BAACxjwv8YQUAAAAJcEhZcwAAEnQAABJ0Ad5mH3gAAFZLSURBVHhe7d1viBxpnuD3X2Z1M5XcVcrZN6qa+tfganX3SoXUaklGo5v17QtrpJXPmh4vMvYaxLQ5vTrDNvhFn9nGx7w4rUEvbPTSh1jGCA48iNuZkaFHQm+a5dAKJE1bRZWguSnDlEpFlRpyu2qHqh5LKj/PE09kRkRGRjyZGRmVkfX9QHZnRoUinn/xRDwRTzxP6f1TH+2WSiX5J//F3wgAAAAAoLjK+j+7u7vmBwAAAACguMr66R0AAAAAoPjK+ukdjTwAAAAAKD7TwKOLJgAAAAAUH+/gAQAAAMCQKCt00QQAAACAIWC6aL56+cr+7M30/JJcP78m0/Z33k6deSTXz9Ttr2LKLw135OL54qVXnmWsiHmxn8tPety7D3NL3TK7LNcvqWX+p8t0yLM8x4nGa6/DA+Qrw3osozoBALIw8tb33vupfoJ341+9JxeOrNnP38ubzw7KV9/atRxtvXhDZj78nby7NSWPN+3CKF0JnlvueV9xpmbX5AOpya+fVeySJLpi/3/kf/xwR75eqslzu9RTlyuXluQnsyVZ+O2YbNmleXBKQ18kLWei/6a6Jp9d/Erej93WS3n/0AuZ+9Y1vZLpC8N/8ye/a4TlZOkt+VsVl6ylp4+fr375ag1PNKzRj7+uU14kprGr7PKiiGH2NfLlQKXtNpPWSY9792FuqVs21felKfV5S96c7T4dOjre+yAar70OD5CvDOuxjOoEAMhCeWRkxHTRXHhwUj655X2uPRU5e+6RfDa/Y1dzVZMvV0WOziTcuVqZa+ynua8luVi1f8/NqNy+PyUbqjF3PhLP6fk1OSoVuXd/UlR0cuaQhoq5835a5GYgLW+s2D/mTIfl08Mi9+42w/IzWZYrs3aFTLmlj6wGytndKZHDi43yvLp4JPS3DZ3XgbBfXRw16znva6AUMMy6wXnpkXwsk3Kv3d0Ul3XIrwwUMQ0BAECQGWQlSl8AX3takfHDz+WUXebq4bOaaiGtOTfYVhcnZUG2ZeKAXZCnzUm5oy5mwvGsy4XD2ypgk3J7j+5gp6bh7LJcnq6pxt2cPLSL9k5djk+LbDydC6WXLkP9anB2Wsb0ndUnqlEwXlX52qGO9zUAihXmulw5V5cnqoF9dbHd3W6XdTzkV++KmIaZMDcR9uJmIwAA2Rr5T8YP/bRULsl//uGfh7rkbH37Uk6+80LGIl11/C5SbbvgbVbkzdnncsy1i1717+XCO1vy+9XAfnTXwzM7svDbl/Lf6q6StutcSxfESBfFD/SJeauzbhHPN0smnof88M6uyU9mSnLv794OdxuNdi2N6SLW0vUvuo5rvFLS8NT8skyuviP/V5v0bYRDpes/Ur8nZmx4zMfvktrsmrJw4P9thrvjbqk7cuJIXeb+MJae7klp6KfNH17Iv9Hr6HC8+Af5i4tfyaVGmK3E9InrcpPQDec7/yD/7J0dWf9tm27CaeXZ/PtI+Y2RXDY6yItoGkbTRhu0MCeqyOMlP+3b5ZPLOpZj2eg0ndvXLSnhySK/LP2k/F99399OoGt7J8eOS7xcwhONV8fHsu1KPR6uI00cZ8PLtLZxt5LLqrev/2b0LVke/6p9vn87JsulF3L5+79rrZODhjHuLvy4tT1/ucQrw/Bkovs6IZzOQe3qhEGLO4BhVi6PxD7Ea5iodtpNc1Qeq0rN9enfqfnnMq5OEJ9Hn/aMPZdPLy2L2K6j+oni0dPLzW3qyvb0Tqhr3c1V+7dObE7KzxpPK1UFrBorLU/vzL6C3SHnZGFan+wC3ZjUOh9LsPupt05LN9e0eBlJaeg9MVvf3JYrwRe6AwMjNLogmu6HEup+q8MVeuqnwvjpTE2u+WFW4fu4o665NflcxUFv53rS3W+XNNRpc6Qi13S4x+ry8ZltuWPioOIc6u7ZWRkTdbF6dqwi9xZrdkEnOtxXHNeyEZMXnwbTRz9hOF1Pzk9jgMKcO4e4p4XZlNUM6pbM8ku/E/xILlenbJi97chsh8eOc7xSwpPpsZwmPe66gfPp4dHk8Cjjhxfl0+pkcx0VxmhdZ+rOBzVVJ7cZJGOI4+5Exy31/JUus/BkJaZOCIXHJd8dmbg39jUv91STf2/rTADDqKzfv9NTJbTYHJV1+zXIbzw031Nq5XW7TDiZ6crSNkwuT7d/101fGPnd/FZXauoEuSOTpgHhNcSi3QK75Yf3/Pll1RCoyc37wYaAv6+pwIWZ36ipN09sK3ORNPHeZYnrFtg+Xk1paXhUXTh+2TjZ9HCSUI3ra3f89G8f5iSmTJgLmG3z7qbO13BDwDENlYUlPywqDM/U+m3LYUoZ0ydfW8auq7Tqpayk7iuNa9mI5EVL+hzYlnGpyPo39neCgQnzHkiNe2KYM6xbMsov751gVS81wqyNyu3IDYvkY6ezeLUPT/bHcpL0uHtd6hceBBvONbmhGmkt3Ux1vjfq9oS6Tr8nruszXYeERhTdB3F34HL+SpVheDIRqRPC4XHPdyehfXk3U/a6zgQwfEzL7vXr1+ZHSHVHJuzXznkVZNsX9YMDrdytybHYAV3UNoJP9TYn5eqtI97FSbUux8b0U6z2jczOeJX1+Nh2pBLXtmVC7UvfdWs0GNTnU/2eXoTuihJc53LsWOMJ8QpJTsPwSV2d9JdiTuouVBp6J5oemXjYxuaWl17NPHVNw/DFcHL+ppSx4CArt+ZkXe+767ukKfty4FQ2InmxauIfuHhamVJp6zei094VGpAw74mUuCeFOcu6JaP8mtQXmqu1SL0UlXLsdByvduHpx7HcXmrcZ+tmQKyWRvQ3FXPDKfRutwpDMN8TmfrMe5Kjn1h5F9/7JO6JVLlwOn+lyCQ8quGlpzgI5EXrceayjpIYHtd8dxTZ12DUmQCGTfv+mebuc/cnp4eL+g6oQ4NDnSDMQCfqQiK2PZQT705kRZ6sxMc33M2q2XDwT776Ytgb+KT59666dQUkpWHnXWfzohqbd7y4R7t4paVhp5zLmLoo6fpuq+W+r1a9lY1RWWtcPHlp6zWi0xsOgxHmvdF53PsR5izya+8u/JLSMOtjOd4eXvSaAVeW5ah+2hKJ19DHvTD84yv4iTY2XdZxk0++A0A22jbwTuk7t+rk1vJunCszcuG2HJvtQ0NENTp1d5dwI6du3k3LXkXWt9KehNh9p95l71BsGnrhiXZnmTZpsfcX1r61TdWganBJwy70s4xFdb2v7suGydOtiqzZ302RhsN8m3QdqDDnrIO4h8Lcl7qll/yyx3SvXbi6iVdsePp0LBvRRo1D3OOeVmnmBmXkaZMr/QrBuecyrnsBhLpH7oO4Z24YGqr9zHdb//j5DQAZMe/g6U+Qd/c+/t04/VK37p7Q2qUyynGgB3Uy1V2/mu8suPC6DzWf+umX0ZflqPmeNb+PfNK8bt4JQHdr9a+XvDS0P7oWl4bqYrGlO6b3LkZL91J7UdevE5Oh73RHuz6qZR+HwuOSht1wLGPt0qcjrvuK6rJs2DRMPi68rkMbocZ00CCGOS+OcW8Jcz/rlu7yyzxJU+G4HDrOduRiu4ZirG7iFRceb1nvx7K/Hb8Bo7vSLcpZlT5BqXG3PUDCA32ouJn3bjs/3s35zR8YJ/Qutjbcce+dW7yKJ6t8j9FyrgSAbJTeO/mjXf3l3/0f/9osMEIvAYd5o3bpCmk+caAVj3cRoUfc8l/Kbr1Q1N3AIt0cGiNWJXV/CJ889An586oKmx6Zq+XE7EBVtJ+Zubbiu2/48Q7Rd3j9fZl//9x0a9V0+ujJvkPhcYpXVGsaatHwtM2PSLia6W3TbzMQB8Xkjx49sZM0NPEKX2zq/AiGV0tMQ7MNPcKfSn/xwrxuthEf/6bo3+MvKuLCY6Tke1hMWFrS16cnT7fbdCgbcWkTDXPcOunH4d6G2UX7xmMzPC7rtGqNu1uY0+uW2LJsNMOTWX4Z3vJmgywQb+djp5s6Mz48sfHv+FgOhyeujHkS4m5Fy0c4nR3rOse6YCjj7sLErbPzcmu8MgxPJtzDk5jvSnqdEE4bXzd1JgCkKb174uKufoJ38Ie/tIuyZSpKPcxzmwYj0pGGyfJMnyLmxX4uP+RX7/Zz+QGyE9+YBIB+SJ4ELwOmm8lYXU7wwnjXSMNkeaZPEfNiP5cf8qt3+7n8AABQRKV3P7y4Wyr37wkeAADA/sYTPAD5Kb1/6iPzDt53z/7CLAAAAAAAFFNZVPPu9auYic4BAAAAAIVi3sEbGRkxPwAAAAAAxVXe3d2VV69e2Z8AAAAAgKIyE50DAAAAAIrPNPBo5AEAAABA8XnTJKgG3r/7t/+73Lw1Jw/tH2R2Wa6f3pF7d4/I7U27TJmeX5JPD2+LbEUmvq2uyWfnnst4ZLmZJHdaZOHBSbmxohaY7da9PwZFtwcAAAAA6EhZD7CiG3gbWztyfn7HLm5nR07MbMvC04SJb0PL63JcNe5a1VRj8qR8EvzQuAMAAACAnpRfv34teqCV9Wc1kZm6xLbHfNW6HBuryPpKTZ5sbcux2UCD8MC2eXp3b3VbJg7YZbN1mXg6J/e27G8AAAAAQN80B1nZVI02afNUzppWDbbxrZo83hyVx88qMh7TIHysGopH1XLt1MyOPFmpmO8T1bSng610d9Drlx7JZ6lPFgEAAAAA5gmeZ1RuL43K2fmY9+MMr3vmhmrA6a6Uqyu1+G6aavnCdF1OVdfkfFU3Bu1yAAAAAEBfmSd4uoum4TfOvF9htnvmk5VR7/fmqKxLs5vmdOMJXU0+f7ojx+e3RWxjsFVdLl96ZJ7ONT5nWhuWq4tHzPt5VxftPgEAAAAAbUXmwavJl6t1OT5rfwaY7pkyKmuNJ3J6XYntpqmf7k1M6+6ZumHm/ZvxqmrwNcQMsnK/Zv8GAAAAAOhGWf9Hj6Tpe7g4JRNH1iKNNq97ZvTJm57+IDxqprU5KVdvhadXAAAAAAD0l3kH79WrV/anEjfYiume6c1lF3rqdmtOFgLdNAEAAAAAe8d00Qx309QjZIocmwk02vQUCLpLpp6oPKQi61teN80Tugvm5mimc9kxiiYAAAAAuDNdNKNWFydlfaz5ztwpPe3BVkXW7O8mb7oE3U3zWML0CkZ1J9DtM2aQlfPRbqEAAAAAgE6UDn14cVc/wRs/90u7CAAAAABQRGXFfgUAAAAAFJlp3YXfwQMAAAAAFFG5Mck5AAAAAKDQIhOdAwAAAACKyjzB03PhAQAAAACKjXfwAAAAAGBImC6avIcHAAAAAMXHHAkAAAAAMCTK+v075sJDLqpr8tmlR3Jl1v7upzz3BbRDOQQAADljFE0AAAAAGBI08AAAAABgSJTePfGjXd3IO/jDX9hFOZhdluun6/aHsjonn9yved/1345U5NrStnyq19makmv3RT4+91zGpSY3b83JQ9mRi+cX5exm4N8pp848kssSXqaZ5dP2h1Tk3t0jcnvT/lSm55fk08Pb9pcSDI/d17Fn8/IzWW6up8N1Z1JWvV9u/LjdGZULl5blqF288OCk3FjR31zilWF4shTN00ZexaRvSHM9LTkvlJQ07GRfLlLD04HcymFCXjRE1+nLvlzKs+USZgcu+RXOh6aNp/NydXHU+9Fj+mRdDgEAAFyV3j/1491Xr17JxPlf2UV9Zi6cJHCBU5cr+kLdv4DyL6z0xZJp2Onvo3LnfkXOq0beurmQd71wtNsOXZiqfzu/LbcXvXW8C7HR9uHxL1LH1NfGMm+dieAFoYvARWO4QeLv3yVeGYYnK/o9o0be2GVx0tZT6fNZdSoQh5h4paah5RqmJC7hcWLLVB7l0CXeJg0TjsHM9uVSnpUs8kpzyK+WdLblqXmTxV+WQfpoWcUNAADAUfnly5c5zoOnLoyO1GXj6VTzQlxq8vnTirryqsspu0RbWPIvhLdFnqn1N0dl3fx2Nz2/Jkf13fLQU4fRxkW1vii7cHhbXdwFGgZq/RsP1N+n1+Ri1S7STIPT/3c1+VJtcLza7g59suDF5OpKTTZUukwG9+Uiw/D07MC2jEtF1r+xv7u1Mhe+OE6IVyZpmKaD8CTJtRym5oX7Mdj7vhzlVn525MSM+r5aa8Z9ZUrubYlMVHfsggzTBwAAYA+U33zzTfs1D9syMaYugg4vyvVLjxqf1q5M4Yu9ddW468akvtgKXsxFzdbVhXfMheU3FdVgUGE9YH9rKgzNi/NeqAvB4J38zUm5eivcVc9JJuHRTyKa+eB9lsINChfmInlbzp7r8t8H6Kc7wfDEdaXLLA0duIUnWa7lMDUvXI9Bped9Ocqt/IzK42eRhtrsc/MkrlnHZJg+AAAAe8DMj5D3ROf66csnt6Kf4NOLLPThic7QGZXbd6L50E1Dyd/OfE8X6qbr3rR+P6kZnpt7eAWdTXjyLodueZHNMZhNvudffupy2W+8RbtnWvnUUQAAANkr6/fv8psHryLrWyJHZwKDF2QmeiE9Kmu6oRLtVhUU94REM13GIk+J9kyRGqqRC/X5TvK5Lsf105akJ125yio8e1UO2+VFP47BTvI9qTz3u/x4XTSjjbdw466fdRQAAED/5fwEz+8itdzjxL/RrlaBQQ8CHi5OqQvnulw+E7xYU+v6F46bk3JnVV3MnV4OXHzX5crp6Ds4eXGL1+DzurltbKq4BG1671HGXzx7F9ZS3RG/V533RMb+6FTivlxkF569LYfRvMjqGIzTbl+dluc25SeRe34ll4mM06fncggAANCZ0qEPL5rWXW6jaCreSHaRd1r80ejMCHY73hDyEhyBzhulThrdqcIXi3qIczNkeXUyNGKfuVDWI+DZX/pCMDo8ffRCMDRcur8fl6He07SMzhcnLV4ZhicjcfkZTsMAO6rguP2p36drpEfkb7F56pSGVtK+XLiEx1k+5dA1LxKPwUz3lVaeOyw/SZzLT0xjqxF3Txbp09BrOQQAAOhA/tMkAMBesA0tiTYe7XKmMgAAAMOg/Pr16xzfwQOAwTI9W5dMpmkAAAAYAKV3T/zIdNEcP/dLswAAhlZsF83W7rIAAABFZd7B00/wDv7wF3YRAAAAAKCIVNuunPs8eAAAAACA7JVLpZLoDwAAAACg2BhdBQAAAACGRFl3z6SLJgAAAAAUH0/wAAAAAGBImCd4IyMj9icAAAAAoKjME7yXL1+aHwAAAACA4jINPD1VAgAAAACg2EzLjkFWAAAAAKD4eAcPAAAAAIZEWXfP5B08AAAAACg+Xr4DAAAAgCFhumgyyAoAAAAAFF+5VCrZrwAAAACAImMUTQAAAAAYEjzBAwAAAIAhUdYjaDJNAgAAAAAUX1k37l69emV/AgAAAACKyoyiSTdNAAAAACg+3sEDAAAAgCHBEzwAAAAAGBLmCd7r16/tTwAAAABAUZl58AAAAAAAxWe6aDLROQAAAAAUn3mCxzt4AAAAAFB8pXdP/Gi3XC7L//w//I3cWLFLtdlluX56R+7dPSK3N71F0/NL8unhbe+HsvF0Xq4ujtpfTY31tqbk2p1JWbXLm3bk4vlFOTtmfyoLD04292/2Xbc/AtpuDwAAAABQeu/kR7u6i+Zf/otfJjbwTp15JJenKy0NvgubR8L/zjbeJp5NycThujwJrG9U1+Szc89lPNJYO3VmWeT+nDzUP8y+RW7esr8BAAAAAKnK+uld+jt4dTk+rZ/YzYUaa6uL0cadUq3LsbGKrK/U5MnWthyb3bF/0FTj70xr40576DfuAAAAAABdKespEnQjz8V4tdk9s53p2bpqwNXk8eaoPH5WkfGZuqi2occ0/kQWlrLrZqmfIl6/9Eg+mw82JAEAAABg/zHz4KUPslKTz59WVGtqWTWmluRi1S5usSMnZrZl41nNNOBWV2qyMVaXE/76B7ZlXCqy/o39DQAAAADIjJkm4dWrV/Zne7o75id3p2RDtuXsuUfxT81s98wnK3bglc1RWVfr+900p6v6/6OyFniHT2/H+0QbjnW53Pib/ZxpHXjFhOvWydjBXgAAAABgPzFdNJ1tTspV1Zj65Na83NsSGT+8GGrkme6ZgQacfvL35apaL9hNU3Zk0jbk/MbZJw9q3oKQmtw0+wp87setBwAAAADQTBdN13fwmkbl9p2TclM33g4/l1Nmmdc9M/rk7bJu2dlumqub+inbtkwc0OsDAAAAALJkGnjahOk+2RTtThlnbbNivyn+ACoPIk/dbs3Jgt9Nc6WmvoscnYmZ4w4AAAAA0JPGo7vmkzitLhcOb8vG0ylv6gI9d130/Te17OPgOmYAlZp8GZ02QQ+qortzmm6aNbmhu2NOL2c26iWjaAIAAACAx0x0rr9c+Nf/i9ed0tp4Oh8euMRMPh5u5Omndf48eGYi9Grr/HaaboR9eliak6T7k517f/YE58aL2ZcRM3+et23d0IyEFwAAAAD2GdPA0yNpjp/7pV0EAAAAACgiM01C+jx4AAAAAIBBZwZZ0Y08AAAAAECxmUFWeIIHAAAAAMVnGngdTXYOAAAAABhIZd24GxkZsT8BAAAAAEVVfuONN3gHDwAAAACGQPnVq1d00QQAAACAIVB698SPdvUgKwd/+Au7CPtKdNL5mMnk9wszWb/MySf3a3bJYPIn95fVvQ7rjlw8vyhnx+xPZeHBSbmxYn90gnI4ZDIsGwAAoCNmHjy6aO53Fbl396R8ckt9uKjeO7qRc+mRXJm1v1NsbFbst70yKrfv2HJzd0o27NLuUQ7b6rBs7L2sywYAAHBVVmjgAQWyunjEXDhfXRy1SwAAAAAP8+ABAAAAwJDYm3fwZpfl+um6/aEE3yXSfztSkWtL2/KpXke/i3Nf5GPzfk5Nbt6ak4f++x2b4XeQ2r1DZZZP2x+mG9gRub1pfyqNd5p8oXebvH0dezYvP5Pl5nrdvCPkx+3OqFy4tCxH7eLmuyku8cowPJp596kuTyJpEtVTGrrkqVO+ezLLr2g51Lp4r63X8LT8+5BA3KPhbRPW/qVPOB9C7Dt06z29g5dcDpPjpfhlqO3x5QmX5aaNp/NydVHSj8EOympynmVYNrRO8itPvZYNAADQkZHvTv3RT/Uomv/40J/bRX1mLkJEXXjMy18vTcmvlyoy8/1l+cmBivz6WUXkQF0uzL2QHxx4S659MSbvHqnL8XGRO1+8JZPvvJAxdfHzePOlvH/ohcx9W/P+jTU1uyYfqIua5rK6XLm0JD8sqQum2+/Jz83+xtS/3ZKvXnjreBdQo+3DI96+jk6rMP3hbfnk7py3zoe/kz8uvSV/++INsx0nftxUnDbUxc5f/d2ULJT+Xv7s+JZ8vVST53ZfyfHKMDzad/5B/tk7O7L+24Py1bd2WUgGaeiSp2o/6fmudqbKz1985235yy/eVvtp7utCI+6O6WPK4Y5qqH4g13+jtzMlXx+Ilp90HZWf0XGbhm/Jm4eW5fK4t87Wi4NeXJ6V5OQ7W7Jsy4YXP10urE0VNrNM/fvZ1nKiZVae9UX5n7xoH5YoU4625PerNp86lVYOU/NdST2+vPT5l3NjzfTZ2pELMzumEXj9PzbLT+Ix6FRHqX+UVtc55IVz2eg0v/LUa9kAAAAdKeund3ouvHzsyEV98fV0KnBXuSafP1UXO9N1OWWXaAtL/tOEbZFnav3NUVk3v91Nz6/JUbX9m6EnE6Nye9G/g64u1A5vq4u74F3umtx4oP4+vSYXq3aRpu+qN+681+RLtcHxars768mCTxRWV2qyodJlMrgvFxmGJ0mWaeiSp6nrrMxF3j1rE/fE9PHL4VziU8t0HZafRhqOymN9gR8p873LsDwf2JZxqcj6N/b3XnPNd6X98bUjJ2bU+qu1ZvqsTMm9LZGJ6o5d4C65rLrXdZkcy4OWXwAAYM+YUTT1XHj52JaJMXXxcnhRrl961Pi0dkEKX6isqwunbkzqi6TgxVzUbF01XmIuir6pqItCFdYD9remwuBdzPVKXcAFuyltTsrVW8ndI2NlFp5k2aWhS5665bvuLhcsP3Hd7RLTp1qXY6ocdluuGnooP6tm31007JNkWZ5Nw2dbzp7TabwUbhzuEad8Tzy+YhrWs8/NUP6dl4W0supa1ylpeeFiAPMLAADsDdPAGxkZsT/zoe+wm+GzQ5+s3xXJ+OJ5Xxq8NPTen9LvFjXLzs08Wrr7jj/M/fxANByyzfe6XPYbXafroSd+WcunrtMGK78AAMDeMaNo6nfw8lGR9S2RozPBgQCyEm2MjMqavmuf1A0u7smGZro7RZ4E7Jm9bGQNWhrW5bh+apP0RNHFpteVLtwtz267Ez3Efdrs26ZvVvqSF5GGw3w/jt00GeW7OpZ0F81ooyu9cdfNMdjPui7JIOQXAADYS2YevPz4XaSWe5ywN9rVyhuNTne1Cnq4qCfYrcvlM8GLHLWuf9GzOSl3VtVF2OnlQAOmLldOR9+dyYtbvPI0WGnoXTSLahz5bTHvyY794Uw1dlSYx9XFt/dP9UAyzVEXnXUb9+qafHx4u3Ud2/DsulHQ17zwuhzuzeTqWeW7Jzl9szoGs6rrrI7LRvv8anR1DR3TYVmtAwAA8ld+9fJVrvPg6Umarz2tqItQe3Hgfzq8SFhdnJN7W35XK2+ocb3dEPP+zZwsqIus5r6WRVb8AQ1UA+a+7uoV6LKl/j5hhkvv8f2sLjnFK08DlYajcvu+anCOPZdP7b7Ob3aXPg/vz8s98bej4vPgZJfbcYx7MP3skPGt6VOTG3dV/CJp7TfW9AiQ3jLb4Gis1+yKl1VeNPfV23aykVW+q+0s6QFngulrP4H6J6tjMKu6zuNaNpp/i88vl6eRWa0DAAD2Qum9Ex/t6i8Hz+U4Dx4Gh8P8Y+iFfQIUmVdt6PQ611ke5dCGUaINn17DjmSkLwAAuSrr9+/yewcPAAbL9GydKQYAAMDQME/wdANv4k9/ZRdhX7F318ftz/B8bejdMD/Ba30/resRKfMqh2by8WgXyYrc4wl2xjIsGwAAoCOlP/rP/utdPVXCd8/+jV0EAAAAACgiM8iK/gAAAAAAiq2c5wiaAAAAAID+MZPg5TsXHgAAAACgH8r6/TsAAAAAQPGZLpqlMt00AQAAAKDoTN/M3dc8xQMAAACAoivrp3dMdA4AAAAAxVd+/eo1g6wAAAAAwBAo66d3vIMHAAAAAMVXHhkZ4R08AAAAABgC9M0EAAAAgCHhjaLJXHgAAAAAUHhmonM9Fx4AAAAAoNhMA49pEgAAAACg+Mp6igSmSQAAAACA4qNlBwAAAABDoqznwKOLJgAAAAAUX1nPgTfyxoj9CQAAAAAoKjPIChOdAwAAAEDxlZkiAQAAAACGg3kHj4nOAQAAAKD4yq9fvaaBBwAAAABDwHTRZJAVAAAAACg+M8gKAAAAAKD4zETnupsmAAAAAKDYSu+d+Mg8wjv4L/43uX66bhZqG0/n5eriqP21IxfPL8rZMfvTtzonn9yvma/T80vy6eFt8z2Ov71TZx7J5Wm7MCiwLWN2OSE8dblyaVmOSk1u3pqTh3ap92925N7dI3J701sUDVd4OwAAAAAwPErvfvijXf0e3r/7t38VaBjZBlSj0WUbeJuBRlh1TT4791zGow0zzfytLk8CDa0WCet4jTJJCI/3e2KrIvJsrtlgizTwvMZkpaXBd2HziNxY8X4DAAAAwLAw7+DpBt7G07lAQ6smNx6ohtT0mlys2kVRm5Pys6eqgZW0TlfqcuHwtlN41p+pZTN1iXsgqLdzXP0hvB2R1UUadwAAAACGU3lkZERev34tT1Yi3RZXarIg2zJxwP6OsbrZh66Os3U5KhW38GzW5IlqyJ1IaGCOV9t3Gw3ST/auX3okn83v2CUAAAAAUCyNUTTXAk+5PBVZ3xKZqLZv8Eybv43G/Nvutd9mXHhG5fbSqJydb76r11STz80TxmXVcFvK+CkjAAAAAAweM4qmbuStmZ8dqK7Jx6Yr5VRzkJOsbFXcw6Of7E3X5ZT9GaS7Y35yd0o2ZFvOnnuU+ITOrHvrJAOwAAAAACisxjt4k3ZBIvM0zGsoXT/3XNYf9KlBNLbtFh6jJl+u1uX4rP0ZtTkpV1XD7ZNb83JvS2T88CLdMAEAAAAMpbJ+/65cNg/yIrZlYkxkPfienR7F0jSWvE8/Bitp/15fTHish4tTMnFkrc1gK75RuX3npNxc1Y2857FP/AAAAACgyFTbzmvctTwBM4Od1OTLvEec/KYiG3oEzE7C4zDYim9ts2K/AQAAAMBwMaNo6m6aR08HBiLRc9Sdrvfn/bo0m5NyZ1U6DM+oPH4mcmwm0PVS/5szkcFXEt4bZBRNAAAAAEVXev/kj3d1N80P/6f/VT5VjR/fwoNgF8yYic6T6MZVm0nMvcnH7Y+gyITp3mTn7cLjTXQuMcv0FAuNic3NxOfhRl54O03+/jaezjPQCgAAAIBCKr1z/OKufoI3eeG2XQQAAAAAKKKyHkFTfwAAAAAAxWYaePGjaAIAAAAAisRMkwAAAAAAKL7GNAkAAAAAgGIzrTvewQMAAACA4jPv4NFNEwAAAACKz7yDRwMPAAAAAIrPzIM3MjIiB3/4N3ZRQUQnMY9MlB7UmDQ9YZ19qYM0LI4OJ+XPQ5HLqh/2foZnyI9l6p8MmbIicvPWnDy0i+KcOvNILkv36d3IM2vhwUm5sWJ/ZGHQ6t7qmnx27rmMb03JtTs1OaHr0LGK3Lt7RG5v2nWKyCledblyaVkk6zwGgD1kumi+evXK/iyQFXVCvHVSfebl3pZdlmJjs2K/dUGfKC49kiuz9vcw6CINB0LR8iLvsuqiwzTsa3j2ybHc9zwdNFmns96eahRtPJ1KbNz1TDW+Pj0sqhGgy6T3yfzC37XM51VWN0dl3X5tGpW1Xhp3uhGrwn5dNZ5O2UUhjb97n2gcdSM7+Pfr59dk2v6tIbKNz+Z37B8sp3jV5POnFTl6Ov86AQD6ZV9MdL66eMScTK8ujtolwGAauLL6TUU27NdBUMRjmfonC3W5op/ErM71PR1PzdRFtmryuMhPrrqlGkSrvTbsjB25eCTwhDJCP2H1nsTGN6K9J6ijgb/PycLYc/n0TGCb9imofrpq1rk7JXJ4sbWRp6XESx+j10wjr01jFAAKpry7uyu7u7yDB6C9dXWBBOyV6fk1OSo1uZlXN0bTINhPKrKeYS+O6fllOTum8utBTH6phtnlafW3tt1sd+TEjO7SXAv83XvKJtN12wCzDUjV4G80DDcn5Y7KtHHVQG8+6XOP1+ripCxIXS4HG5EAUFCld098pNp4r2Xi/K/soqJJeOfK3uFraPeeQ3Q9fSFhTz7RdzHCIiepxP154Tz2bF5+JroLkN2meTdg0v1iwuxjp/XdCN2V59xzkafzjTvcLWFv+55HuzSMXx77fotrWvfALS+aYb62uZaczhmG2aRJ46qi3bsrfSirHZaxjsqzi2h4utlGQx/SZy+P5dQwO25HCZevpo3A8Z7MfV+p9YaO15GK+nejcuHSsmp4efz31DIvY/YdqYmkuLbkuxIXbocylPb+XnL6xJfh9tuMX7/TNPTXdy8P3UvfVyC/Np+rNA+/M6nT4vxmcjhNelXDZTO0zJ7v1kPvzXn7Pdq2/k3nxU0/Oey0jALAYDENvNevX8n3/vS2XVQ08SfIsIR1Yk8UMdLWMxcPwROZPdk0Tv42DGPqa2OZw4VLi+h2PS0nJhWez9TJsLndpH21S5/45S0XK6lxz1hiXgTSuXHxGhP3zMJs/13oQlmFYX5bbi9Gt9MunYMS1smyjLmW+yRZbCOkx/QZ2GO5XZjdthN3bOuGSmcDfwT21SirreFqvcCNxl2x+9fCjbrIhXFW5cPsL+amli/m7x3XUYE4tQge22q95Ho1Pq9bwtPQrmxYjmnopf9gNPBCDbE26S4P5kROq/Q3y5TojQYbb29wlEkRs0/9XqTN42ie++n0dEomDvdQ5rIqswCwx8r66V25bOY7358ObMu47sbxjf3dFXWSPhJ9+T/apcTSJ6zGibwmX6oz2ni13Z3aOHHbjenSshJ9V6WbfbnoIO55Cl0wROOeXZgbXceCFycyGtO461WeZcxRJsdOhgp3LFuJ24k7tqfMwBwT1Zh3jdKEjotRefwsGK+6XFAX7gvq4jsY9xu6m930mlys2kVWsIG5ulKTDRXWycg6WZg28Wz3/pSfX3MJT2wc8rQx6MlJuakTRzf8/Pe/gsd2bvVqZ/J8zzNxX6qBdH5alY2lYH3Y6qhqTH/pp68eaEYi79dtTspVf/mlR/bmQZsGvmmU1eXJ3QwaZZs1edLtsQUAA8S+g7drf+ZBnWzPN0e98j5LkYsHl3UyYi6WtuXsuV72sS0TY+okf3gxFObYLjYZvNvhXUzV5bg/4le1Lsf00M+RRoW+kxoMT1wXr951EPc8JaZzdmGe1Bd2oXdF+iXfMuYkk2MnQwU8lo3E7UQbYcrsc/Mkrqv3IiP7WjXbsA2z2brp3tbSQDYD7ah0OWB/G6phE7yYNhfkbS7As7BVkTX7NcTUfWlpkW0dlU+9WkTqvH3GGwgnraEVvokwKreXIjcRdKPtktelWDcCb67W5bJK65YBVPSTPNO4y7bs7XWDHQB6tQeP7lRlfse/c+d/opWzyzpZ8felh6vu7eKwMZpX6BM8kWXEvkx+VI/2pkyrC7PxyKhvppuMeZG9GRZzZ7pPcot7hnoPc3+eWCQZrHTO7tjJRgGPZWfeBa5pVHTcPXMIjG3LpP3arSzyNO96tVDMjYfWG41xkp+QNRuK/lPCh/e9dB4//Ny70WFvOpw9rLt/Bq4NMupVsO+mNAEwdMw0CdAiF4fzbd7HiKVOKFvNBlceHj7Tdzz1XX2vC1e4S0xdjuu7yn15shRt1OQf995lFWbbbSzada8vBjmdezl2+qFYx3Iye3xHGidZNe5C3R9jn9Qp5qI58sQuR6GnjFHqb3qes3CDwdZ/DVnlabf1av43gvaCmV5CN7rMjZXmzYjmzQk9BYGXF9EnZOFuuN4T12gja838tmlpu1JG88Jsp5cpLpyeCAPA4NuDLpqDLv7k4l9IxF8k+N2olvObKHWlZoZ0Pq4uXo+NRS++vJOoqJOdf53j3Xm2P5xFu4fprrN2oIaGPYh7Yl64yC7MDxenTHfZ8NDaKp0yb+RknM49p2GcNsfOninIsewg23yyqmvy8WE9WIZ9N83vGRCaC6wuV9RFevj9NUdZlTFT123Lsdm4pz72HTi1D696s4OnmO++rPLUpV7195VUZ3bAMQ31wCe6QRU7B1zG2u1LP2UL3oQwHzNNgv/EUz8tHW3tjqnyTL/72SxjthHoP60zvHWajTd/O4E8teU57f2/JKY3zB7ezACArJTmPvjnu2+88aYc/OHf2EXF4I/k1ao5RHK367Qdicy8zP1cnQB84eGqY/fXGH3OnuidR1dL5+8vNryRsOp1zPDo1cnGvlzSJ3qBErcdLTnufdA2L9zTObswRy8qg+nnls5ueZEW5g7LWEp5ThMXlrbHToKs0qej8ORwLKeH2TG/2o3w2FFZDR/Hvriunmb/gUZLSxq2jIyYoMcy5vPC1O7fhuOm4/R5VaV9l3VU2+NFc6hXXepMl/Lc4JCG/va6Of461dG+2pSVaPxbtxVTXuPKe+TY6K3rcvzxCABFVHrv5I939RO88XO/sIsAAAPBXtwH57c07HL34dyLfvFqb6J01KgF3HmNzshUHwBQUGU9Bx7v4QFAcXhdySqDM0VF39Xkxt0p2ZhezqUbIvaZWT35v55nj8YdgOFQLpdH5NWrl/YnAGBg6OkHHtRihvgPTPq8XzTSIvhuFtAr7z3ThQf77HgCMNRK7574aFc/wSvaO3gAAAAAgLA9mAcPAAAAANAPpoHHNAkAAAAAUHxmHjwAAAAAQPHRRRMAAAAAhkTp0Ic/Mo/wJs7/0iwomsaEqY7zIyVOYttv0QmLmdOpD4Znstp+l9VCHTtWYphdjq99ewwO6yTOgxuvTo+vQWfiM1OTa3cmZdUuGwTDls4DzZ90f2tq4MpBIlPvt064H9XrOa5RFq3eJt6PUcjzlzeHqWSdFkhVHpY58DY2K/bbAFtRB+Otk+ozL/e27DJ0Tp9kLj2SK7P2N3pSiGMnIjbMLsfXMB+Dw3pcFDxefT++qA+NItZjyIE+PlSjaOPpVH/nOFSNL2/6Gn1+8T6ZN2hcz1951gm60an25X9a5ymtyedPK3L0NHVU3go/yMrq4hFT4K8ujtolAFwU8djheEdRUFbzQTrnSM9FqdL6k8I8vavLFf3EcXWu7+Xj1ExdZKsmj/fTXIr2iaJ+UqmPwU/uTokcXmxp5Olj9Jpp5C0zh2mOTAPvjTfeMD8AAACAopueX5OjUpObeXVj3BwtTrfVnu3IxSOqUasaz40nlZuTckclwLhq7E7bRb7VxUlZUA3uy2cCXUzRV6X3Tv549/Xr18V7B8+1L3J0Pa2Tfsvm3+/IvbtH5Hbwzox+BH7uucjT+cadoWj/6/b7affeSPzy2H7hrvEfIi3pG6IqcdO/vpmG1zbXmuvHvTPQcxp6+zr2bF5+Jrp7Rvt9OZUNl7KaRb67bsMlPD1KeufBpJn/zk9H8W53fAW5rNNOD8dpo5wG9JinRT4ukmQer0SOYdZpc6Silo3KhUvL6uLRE3rXJi39zN97P6e4pY/Vc55Gjke9wIZ3XCrhuCTsywuz7sYWH/f1Tt7TSY1TNuWwIbo/rbHPZjkMhiGuTkjKU0PvJ7GMOezL38bStnyqw6zjfF/kY5NfMXVQgthyFpeGLenTup/kuGecX/bdr4nA8dQiMU+t6Dot5cyTdC7TXOKemKch8evH5lVD+/zYSEqjdmKPWS/Nj0brBMvb32hH5Q/dG6l9772f6vfw/tE7/51dVBCbNfn10pT6vCVvzr6QuW/V72eRPvjmwNQn0g/k+m/0ulPy9YE1+UAV9JZ121EFdObICzkzWgn9m+lDK3Lu4Jj8+y8Oijolm339xXfelr/84m0brorMfH9ZLpTekr99EX1C+lLePxQX5vjlU7ORMJt46ReG5+WvA/v6yYFwGIfN1ouDXto+K8nJd7ZkWVUsf/V3Xr7+eqnm5YOfht+tyw9Gx+Xa7ffk5zp9Pvyd/HEwLzJJQ29fR6dfyA/+8LZ8cnfO205kX81KLWFfLmU1q3zP69hxYMp2tSILvx2T6CsF7x/6nXzw7UH5ud6fS5gb2h1fQS7rtON4nOoT4J+8aFNOrQzytKjHRZpM45UqEObGdlRZO7Qsl8cDcT9Qlwtzap0jddmw4Vko/b382fEt+doPU1pZzeic4pY+Skb1RnVcxVsdq/9BH6t+405fpN59W7761q6Usq8tFW4d93f+EM6bUye+kn9ampL/83FrPdBWap2QTTk0TLyS6kNbDlPqBKdzQWoZc9iXv40Db8m1L8bkXbWt4+Mid754SybfeSFjqtHk2pWwUc7sx8T7O2NeObDruNR16XHPML80lR4/mSnJ/d9MNstnUGqe+uskHDv67+fUMXlE/buqWr+q0l19N5/ZUvO8ptZLvj50Kz9N8es71wmWOaYPvpTffz3eefqqf3tJpe/C0kEvfXUZuPg7+f3TKSkdVA3ir1vL2Na3L1W4Oit/6F5ZEf0Eb/jsmMfHG0/nWu4idMZ7QVSm64G+wztyYmZbZLXWvAuxEu3jXZMvV9UxUG13N6VbfryCLwzHhXGfC931i+ZFxmmo99W4ixbdl6rwD2/LwoPgHaua3Hig1p9ek4v6pOBUVvPM96yOnXRrwYER9Ani0lIjTSbV/ws9cMKBbfN0Y/0b+7vFHhzLA3NcZCwxXh0IbWdUHuuLp5i4B5/Yra7UZMOWVzdxadqvc0ofyliwcRd6suCyLxuHUBcu1fhQPxaWunlK46DncphVfehyLmjqrYx5mmmq4vtM5cvmqKyb3xlLres6iHtG9cZ0Vb8HNqrOMd7vMJc8dSjPjUFPTspNndD6mLC/Q+8p5nZ92JnM3l81dUJdntxNeQK/WZMnqsU7YfIG/VZ+9eqVjIyM2J95UAfN+eaIO97Hv6jzuayTolqXY2Mi66pC65VXuaqTkD8CkNl2Re4tBk9u3uP0YJgvRzshZ2JbJlS8xg8vhvbV/rH8PpXYFz7jNEza12zddFdoOfF9U1FlSoXjgPruVFZzzPcMj500q3ofY9syqb5Pq7QaV/E8Njsklf/KlNzb2paz53RexdVfe3AsD8pxYWRQz/tS9+Uosh1TPlU4wxfW6uIseBFjBp5o7Y6UJL9zSsZ5OvZcPo1t3Glu+3q4OCUbajsX/LibOjKSplnqtWxkVR+6nAsaei9jEtlXX+vztLquk7j3ml9BWxVZs19D9uCcm8/14R4wTzF14869fO51w3a/ME/wdCMvP6Ny+469w9H4RAuGyzo5si+OHtWjJCnmQjQyWpLpKz2t+zg3w2zu6PRJY9Si0Id+zZ0oYhoOXb6bE7x3Aa0/9x5MiZi7+97JNY9GZv/49Zge0rr9xc+g5Wl+4Rmwej5POZ9TMstT/XTFPHVZjhkO3ZO6L3sX34+7Hn0w/JQExeNW1+XO3jzsRRbHTt7Xh7mwjfOzh3UX1kC9nfo0lylN8lLWUyTk+wQvJ+rCUHdFCD8K9rqCdOPhM31S04/lva404e4kdrvB7jWZid49VgdO4OSIbuSYhrF3ZxVTCdq7tE5lNccwZ3zsJLL7MtuvqgvcFXXxp76fMGU++SQxWJK6T0Uufub9PBy0Y5m6JSq5m1dv8jmn9CFPV+bMkOf6yUZ4XivXfanjYcmPu45nTe702kWsn7quDyN1gsu5oGtJ9U+e2tR1fY17vPin71au59xuj+VBydM27I2aaLxMndluuogcewfBTpMwnFSloc6Wzb7+/ug+XVIXnnqI1+Oqwjo2Fq2QvIpAVMH26wfvjo394Sz6zofuwrQoZ9UB0eSvs7x/J420lXP3FW+OaejfqQ/N/6LK4ungXWuXsppnvnd27PhdT9rd0U+mj51tOXZmTSbUBe+qiafIWf1bfe/HhXXvXI7TON5Tyebdy4zztEjHRSd6jleXqmvy8WE9wlyfni5ldU5JTJ/+5Kl+d0c/gQhPXtzBvmzcL+t6pS83RrPUSf2cUCc4nQtcOOyrQ34dfj2zIewjdV1mce+AKWPtuvznec51OZYzzlPHOlMPfNP9udu/URNIH1tntnuf1nsNI1rXoV9K7574yEyT8L0//ZVdVAzeiExx/XiDw7OGDxL9qP3zqvp31cmY9wfS+fuMHVLWf/Hc/tTrmKF+A/vqJsxx29FitxX7XsSQiqS3rrC9oXdt+nUzXLXWURq67ytaobeWIbeymkW+d1MOk46d5vZah2F24aVNYN9+3gYGvHAJc1bruEk/TuP2FVd3xIap22O5YMeFswzilSycnz5d7kODBjRG1WtfzjspY/66ceXC5ZzS0DZ9PFmUMbON4DQJgTQLppPrvrz1YqZMcBS7H8NP5yzLYbh86Ph+ORPdTniddvnl1Xf2h9KS9w5lLHVfZht6hEiVDuKVDW84e68hI6FyHdiWQ5kw4a8GByOKz4u4Mp0c9yzzy+Ptr915qTVPeznnJobT6VhOLz/pZd7+1FLqBM3fXlxeOTNlrdmQbKkzG+LzF/1jGnj6y/i5X5gFANAZe/czNAIhUCRcfOTNXFyGGozF0kvDo8iKFW97burwZgay5zUmmQMvT+YdvOGcJgFAHqbn10zXlr4Ncw5guMwuq4s9kXv3qTMGm2ogBbttVtfk/LSq6/X7o4VQkxt3p2Rjuv2gQMiBf7zfpXGXJzOKpv4AQEd0F5BLethoXXG365YBAB799Me86+V3H+yiaybypBpIz+penulPo6un/XMRbE7K1Qc1GT/8PPD+H/JTN+9aLjzgeM9b6dCHP9otlUp00QQAAACAgjNdNHUDDwAAAABQbKZvZr4TnQMAAAAA+oGX7wAAAABgSJhBVkZGRuxPAAAAAEBRld47+eNd/R4eg6y4iU40GZ3UsfH3Isy7EpmgshBhTjVo81kVY36t/TqnU9EMWv3TU3j2sv4x+06bTLr34yItfXo2aHW4P7mymROzJifMxM0xkzB3waRlgefN65tQmu9R2jjle9wk6wD6xQyyAkeNuTxOyie3vE+7impjs2K/DbAVdTFg4jEv97bssiKww/NfmbW/gf1g0OqfXsOzV/WPrj9Uo2jj6VR/52TqIH265pqGedWZm6Oybr82jcpaz8Oj1+WCaigz1+aAcsr3mnz+tCJHT3PuBvJg3sGjkefm1ExdZKsmjxNOVquLR8wJ9+riqF0CAL0btPqnmPVhXa7oJw2rc30Pk0v6DC11wb+aScPOmq3LUdVA+JInP630PG+6kT8ITzZT8l3XB9dMI2+ZOemAPiu/fv3afoUTU4EBwB4YtPqnYPXh9PyaaSjczKsb4747X1RkPfOnsTty8UgOT1zRA/d8X12clAWpy+Uzga7FADJnJjrXT/C+96e/souKxbwjMW1/qEom2tc/+g5E+B0F7/2oY8/m5Weiu9PY9dr0ZU98H8PxXYhweJs2ns673VE2+9lpiaffB14C20mOe1C798Til8emg2P8e9ESnxB10Wbep2mG+drmWnKeZhXm6HYaYdHcw5OaX3o/Ryrq343KhUvL6kLV0/Jej0u8WsKsdBP/xO24l5/e4+6wL38bS9vyqQ6zzoP7Ih/rJzqhPHMXPp73Qf0TkEV4PPF519DRtpJ47wBNJMU1ui8triy6pnW79FFcykY0TdpvM359tzqzyV+/m/LQN+bcVpcnce/xJeaXexoWrf6JzVeXc1xCnjfElEPXOsqVt8/RrupcAG5G/snUH/1Uf/nHh/7cLCgOfbJekh+WVEVz+z35+dKU/HppTN4/tCVfvfDe92hWIvPy1+bvFZn5/rL85EBFfv1Mr/NSrf9Cjk6/kB/84W355O6ct86Hv5M/Lr0lf/viDa+CPLcsF46syQdV9U+qdfPdfGZLsvDbMTE3rjZr6t/qfbwlb86+kLlv1W+zjyYdnn85N9YMz9aOXJjZMSeJ6/9R7cuFOsHNHHkhZ0b9OHimD63IuYNj8u+/OCiqmWfC/RffeVv+8ou3bbi8uF/w4xXipUNrmOOXT82qtFAnisYycxLRAxa0S+dsbL046MXlWUlOvrMlyyrd/urv9P70p+bF2w/zd+vyg9FxWzYieaplFWZ98fEnL9qERXMPT2p+HVBlb06VVX032+5vofT38mfHt+Rrf58u8TLr6JsEH8j133hh/vpAJE9dpG7HrfykH6dKatwd9uVv48Bbcu2LMXlXbev4uMidL96SyXdeyJi6aHHvTrdP658Mw9MUn3eGS3l2pcrCT2ZKcv83k/LVt3ZZkMtxkRYe1/RR6yUf727HTlP8+m51ZlN1XJXFgy/l91+PN+udPXbqxFfyT0vjcksdX6GHRKn55ZaGRax/GvlqPybe3xmT/+CXLy313JRRHdWFrW9fqvLYaZ0LoBPmHTw9VULRNLrahO4ijcrtRf/Ok6pMD2+ri5fgHaKa3Hig/j69Jhf1yden70Y17ljV5Eu1wfGqvVPVeIn9pNzUO9J3t+zvzvq878iJGbXN1VozPCtT5sX4ieqOXeDCe1FZpuuBPuxx246+YxKJV2Z2YrrPxIUxZ6E7jNG4ZxjmA9syrrunfGN/t5MYHqWD/Ao+sVtdqcmGis+kKc8u8fLXmWu9G96RrLbTwXGqtI+7u+ZADSptn6m02owbICDZvq1/MguPi2zrlmkTz3bvB7mUZ4fwuKZPbvVzZwbxncnj08Fj1re/6x8nqeemjOqobmzW5EnH1z4AOmFG0Xz18pX9mQdVMZ9/JNcvBT9LkYo0fZ1JXbkEL1aizEvZMZXbNxVVKW/LxAH7W8vlPYlReazviAUvTGafy9kxkXW1/054JxZ14vNHoqrW5ZgekrhxcenR3UOCaRjXNat3Ki1VHMYPL4b21dJ9JG+JeZphmM1F8racPae3ES3HAQ5lzC2/1MnVXmAY5gV7v+uSQ7xMWem8zLXIajudHKeJcXcV3le34d/P9U9++lC3bFVkzX4NcSrP2YYnn/q52PwbKS2Dq+zz+sdJ2rlpAOqovb6hAQwzM9F5eSTPJ3ijcvuOvaPZ+EQrybR1Or9rNjjqctk/qZ+uh+4IOlMnljuqtj2qR2lTplVFPR4Zrc30/Z/W/e2baWjuKPeJjkc4v/QneGdw8GQTZr+s6mHKHRp6bWSZX0XMi2LZ5/VPzjItz2PbMmm/diuL8ORdPxeT99Q5/MQU7rI5N/XTRhGmkwIKqrz7eldKpZL9WRS2m01SN53YO3CK6bYQc0ew77yTVfTioNuLq4fPdDcKHX+73VAXFq9bS+IThq5FL24rZvQsv7FZDP0Ic+RkOt/JtrPKL4d4bXrdgcJdY+z+O9H1diLlp6/Hab8aYtQ/+cj2OF01T0valAmn8pxVeLo93ot8Y6ELtmfKk5WYp1z7uv7pVJtz017WUVk9gQXQVvm1ngOvgNPgPVycUpVTdKjdHbnoV17+U67QfCt1uXI6+g5FvjJrVKzUzFDDx1V8j41FK2PvQkTUyc8/33l3jO0PZ9FuXbrr7KLp1tXkr7Oc3+Sl9uTefVr2M8zqhKnSp7M7k1nnV1K8VFlRx8W4Sjtv897Igv6ocO5ctuNQfjI7Tl3Kanb2ff2Ti4yPU1Nnbsux2bj3fjopz72Gx+V4z7g8O9aZetAN/XT3s/m4NMqWjrN5ktxmuPxT83q+wsk2XSCHv/5JS5/ORc5Ne1hHmV5H/W5EAvtc6dCHH5nm3cT5X5gFxRKt1FuHKY+eOMPDP9tK2HEo6nbLNW80qrj+5IEwmVG/Yirr0LDE7vx9xg5pbadNGLc/9TpmmOPqZGNfTmGOnKjitqPFbqvLeDmJxE+f8L0hl93zNIswx22jqzLmkF9e+dEj+CV3B0uPVzhP9VOdz6vq30TyNF3rdr6ciaazW/lJPk4Vp7in7Ksx6p4q2+Kl97oK840Vrx4R8937t272d/3Ta3icwqykl2d3Xn74dUWU23HhGp6k9HE63h2OHdc0NNrWmU3+9lqOv8wF4hably7HZGt+DU/9k5Y+YSb81eBAXvFlIy5fk+Nuw+FYR7mJ3yaAbJXeO/HjXf0Ur5gNvAKxJ9fgPHWGXe5V9HYZUFC9nfjRN9Q/lm2Ud9lARD68xokevj/5ZlbUfq1/ihTvbvMWQGe8LprYM15XhUrrSFYA0Gf7r/6pyY27U7IxvZxLN0R0g8FVktXlSrDbZnVNzk+LLOj38gfd7LJq3Incu0vjDui30rsnfryrp0rgCV4OYrtIxXSlAQqKJ3gDjPqnyanLHYpm39Q/kWNZd08d/CfwLt1uAWSldOjDH9l38H5pFgAAAAAAiqn8+vVr+xUAAAAAUGTl4s2BBwAAAACIU9bv3+kPAAAAAKDYeIIHAAAAAEOi9M7xi7u6kccgK0MmOmLefpr3ySXu+zl9fH4a5BD3xqS7zD8W1kE5JA2xL9m5Gse3whN5Y4+YOit9BNpeRzSNTtSe+Uihg3YNECrnNTlhJrrPZpRjk5Yztf11/AxCveGUp/0bXdY8waOL5hBaUZXVrZPqMy/3tuyy/cIl7vs5fSI2Niv2W//lua++05X3pUdyZdb+7kYX5bCnNMwizFpW29nPSEMUjS6zqlHU9zkKVePLmy9P143eJ/OpFVzr3ryO081RWbdfm0ZlrecpbOpyQTWUF5a4OZI7pzytyedPK3L0dPZlrKz/QwMP2Ie+qciG/dpvq4tHzMn06uKoXYJOkYbYlzYn5aq+EOfp3R6ryxX9NGJ1ru910KmZushWTR7vt/k5NdUoWM2kYWfN1uWoakR8ud/mHhykeiMlT/W5/Zpp5C3LKbssC6aBB2D/WleVDwAA7UzPr5mGws28ujGai+L9pCLrmfcm2pGLR3J44oo23PN0dXFSFqQul88Eug33yLyDp798709/ZRYUgyq05xfl2LN5+ZnoR/m2n3ZcX1uXftZp6+i/H6mobY/KhUvLqpLztPQJj25HV4Yp/dRDzL/fae1zrbsInHsu8nS+cecs2j+9ff9xL63Obkb/Hr88tt+8SxrmqPe4B7ms086QlkNfFttJjXcHaaj4eb8ROBY87ttJLT8p6dzy70O6TOukcpiahlZCfmUV5k62k5rOHTD10rT9oU6a0ToyeV8uZSPjY1lpF+b+lJ9kTnmRUH46kUW+x6aRS17EhLn3suEuNe46vGl1uMs6StK+vL/pLo7x1xLr0XNGKu89oYmWejegJS+UuPi7HjsJ7++55OlZl2sbI379ln2EtC9nreemPWTyuy5PQuUg47oubR3H8tyynS7qn9g8K0C94fP2OdpVvRun9O6Jj3ZfvnwpU//l/20XFYE9IMfU10aCxhykJhODLwN7ldTRYEY5r+MVhvBFXiAjuq44g2L2rbTsS4Xns+pUoBJJqnzjK692y1sqQZf0yVMmcQ9yWacd+2+HrhwqWW2noV06O6ah5Ve67Rp4adtprUC7TGct0zRqH+emhHVcw5JT+XBKZyf234VOnCod5rfl9qJrngbKRmOZt06z3nBZR3E5Th3CbGR+jLWhwpxaZ2YVFpd9dcGcl9R2m+mpOIQ5m7LhyCXuLnWL4zrJ+4qPQ2w6ujBhirn57Iv5e8fXEoF4twgeS6lxt3kaqSc7beA1OB4bXh4NVgMvPr8DZT7pnJuWX5rzOjldt0QUot4Iyjgdyq9fv5ZyuaA9NUMn0FF5/KyicqZu+7CqDGh5NO29zNjZOk1+4dRWV2qyof79ZNX7LQe2ZVw/jv3G/u5K3L535MTMttphrRnGlWgf+Jp8qRJhvBq5c9GzztInF7nFvQNDVw6VrLbjKjENm1LfQ0vcjn3Z/IFfaWs1ufFAVc7Ta3LRT0MrMZ0HTd75laizdE7S6BYWPEGrfG02lDrYly4b/kWHWie23khcx+04TQ9zzlzqzKzKT571c2qYMy4baTqIu0vdkrhO6r7s75m6NB4iq/Q4rn50M9jGdHVH/bfdO0T+cTEX3/gzHI4dFSdv0JOTclMHUF8429+h96jyLGMdGLx3pFPyO/FcWdDrFheDVm8EbdbkyZbIhDneercHDTxVKM4/kuuXgp+lyEnfZR0l0kd71bxL5BeabZlQrevxw4uh7YQf37qs41OZZwunYV7gDNzNWpmSe1vbcvZcm7A68gq+OjD90XSqdTmmh1WNXBzoOxPBMDe7AmWpk/TJTz5x78AQlsPMtuMqMQ07kLQd87J5TMVuBptReXDA/jZS0nnQ5J1fSTpK52ST+mQZvLkV1cm+ImUjVuI6bsdpapj3QGqdmWH5ya1+Tgtz1mXDgVvcXeqW9HXS9vVwcUo2xp7LBf9aotfBNrYqsma/hphrlLR3ud2OHVcDdw0wgPwbTW3zO1Lmh+K6xcUA1htRWd2sKI+MjNiveRmV23fsXZnGJ1q5uazjRt81CG9Hf4Itc7d10vlh1kPu9lBQVcG/o0rMUT2KlDKtCtt4ZDQpXbldntZ9hpvhNXe8+iSb9MlG3nHPSuHKYWbbQT6GMb+6aODnIPk4Hbwwu9WZ2ZSffOvnwSrzecbdaV/2aYB/LaFHpgw/benQ2LZM2q/dyuIcV9RrgHx5Pb96ym+leNctLgb/XJnVdFLmCZ7+DINwNwLVAg9UbvFc1ulUpPDMd77th8/0o2D9iNs7SMOP2L3H7v25Qxy9OOlH+vSin3HPzrCUQ09W2+lMcpcgd6HttHuCZLps9HBne6DsTX6FZJbONt9iuvs05JqnLsepQ5hz1Wmd2Uv52av6uU2Ycy0becbddV8qXZb8awn9b2pyp8vug4k9KtTf9Fxf4W5lNowNWZ3juk3nwbxZ1De259eTFff8Hq7rFheDUG9EOD0Nd7cHT/D6pLomHx8O3rHw+xQvJ0we6LJOt1QBURnVVUt8pWaGSz2uCtyxsWiB8g4qUQejX396d7TsD2cxfa79l0Yb+pk+3cgq7n00TOUwJKvtOGhJwyb98rPuBvLZfPBioo3odvyn46G5Zupy5XSXd7bthU22J7istMmvrMKctJ0M09l0M1P/Njx0tKqr/JNx1nmayO04TQ2zzzEvdB3nXOZbdFtndnO873X9HAlzrmUjz7h3sC97LXHZDBDRQ+PTbGdbjs3GlUF1jaLSufm+nzfYhD9aoierc5xL3P19JV3bdMDxOO3o3NQjHWfTJbLNkPqn5vV8hZPuvd4KdN2SFvfO7WW9EWZ67GXYiDSjaOqJzifO/9IuKoL4A1Y/KvZf4vT5IxuFBEf4UVLXaRkpqFXcNnoZTcnfXuw21MGoR9oZtz/1Omao1upkI8yxcTKCQ4yH0zFuO5pLGuYmo7i7pU+a4S2H/dyOx09n9zTU/O21hsV9O9ELgpZtOaRzQ6Q86osdp39npadP9+u0za8ew9yQsp3UdHYWvWBsPUaT92XLRuKoei7reGLzo6U+TA+z4ZAXzf1lk086bVzqzK7yy2Ff3TD5EBkNzzXMvZcNRy5xd6lbXNbpIJ29dIqZMqFDXjq2K4Ph+lfXu59X1X4j4XE7dlLS3ynu4fDErRMbFiPmWI3sM+k4DZevfgjELfY6zKt7pM05NJo2vmJct6TFPawQ9UZD/DZ7UZr74L/aLZVKhZwHL8uEADpHOexdVmlIXmBY2cZiaNS7/aW3C6f9zVzQztQyKDu2HDpcWGPveA2Y4BD/UfvnXFmkeiM93zpX1o07/QEAAIPFGw1PuhrevphUQyLY/aq6JuenVfz1u+nozOyyumgUuXc/i7JTkxt3p2RjejmXbojoRjaDqxRTgesN/zi9m13jTivrKRKGZZAVAACGgu4WdkkPO65P/O26Ww0j1ZB4Vvfes9Gfc9lPgDzs9JMLk3ZJk5N3Y3NSrj6oyfjh54H3kzA4vIFD+ttFdFAVtd5QDdPTdVl4kOFxapX+02P/fFc38orVRRMAAAAAEKXadiNSKuU50TkAAAAAoB/MO3h6FE0AAAAAQLGVVQuPBh4AAAAADIHyy1evGEUTAAAAAIZA6d0PPzKP78bP/8IsKIYM5/EwkzAGhlYd+DlemO8r2aClz5CUVYfJSrVe552JTkLabsLzrg3w8d5T3HONlzcfVvuJdAEAwF4qv959rZp59td+tKIuhG6dVJ95ubdllwGDaK/Kqh6uXTUe+j63jmqk+EPCe/HsQwPCNQ3tEPVXZu3vfus17rmWjZp8/rQiR0/nmD4AAMBZeWREj6DJO3gA4tTlyrnnMr461/e5dU7N1EW2avI447lgiqBocV9dPCLXTCNvmfmwAAAYMGU9wAqDrACIMz2/JkelJjfz6sa4OSqr9uu+U7C4ry5OyoLU5fKZQNdQAACw50qHPry4qwdZGT/3S7uoCJrvNV3bXGu+t7I1JdfuTIYvkpzfTWn3rpS3/NizefmZ6G5UCfvKRQdxH1bRPNUNkMa7Ye7pE33nKVg2kt4lM/9upuaY3kUuq967VhNP59s/vWvJCyUabsd4pb2/l5Rf7dKk/Tbj12/ZR0iwnHn89TeS0shBb3EPalc2rMRjx3Iuh364RlPfzQQAAPkZeWvy/Z++ev1axt797+2iIngp7x96IXPfrcsPRsfl2u335OdLFZn58Hfyx6W35G9fvOGtZi5U9MAQ8/LXS1Pya73O95flJwcq8utnFW+dBrvNb2uRv3nLj06/COzrLXnz0LJcHo/bTr85xn1Y6Xej/uSFLD84KX/1dzpP9acmz+2fXdOneWEaXzamZtfkg2pFFn47JtFXmt4/9Dv54NuD8nOnvC9wWVVp8JOZktz/zaR89a1dFmTCvCP37n4g13/j5cXXB1S6qUZDY19p8dJ/P7csF47o9FbrV+vmu/nMlprpr9b7i++8LX/5xdtmP/52LjTSMD5NTD4Gw9MQv/7Wi4Pe9p+V5OQ7WwnlzFMdV2l98KX8/uvxzo+9zOIe1K5sKKnHjpKWXxFb375U6fRCxram9mXXWgAABpGZ6PyNkRH7s2BCTyZq8qX6Ml7173LvyMUj0YEhvMEBZLre+XsjoX2NymN9sdPNdrKSGPchdmBbxqUi69/Y3+0kpo+6kD68LQsPgk8danLjQU3l6ZpcVBfba5uBi1kz4MaSWa7L1aT6/0bw7y4KWFanqzvqv6MqLbzfYX6Y5+R22wt7h3g1Bgc5KTd1gPXTIvv7k0YcFLVe+AnZYJR5/S6aDmtXT+/yjnvqsdNFOdysyRPVCp0wZQUAAAwC8w5evtRFxPlHcv1S8ONfPPtc1lES31nZlokxdRF0eDG0nfbdr1JE9rWqfutw6ov9bGUR9yG2MiX3trbl7Lk26eJLSp/ZuhyNu9D9piIbutwcsPk7ti2TavG0Wn9cLT8228NFbGJ+DXBZ3arImv0aUq3LMRXmdbPtdrKNl+7GGNzO5Wn7h30gk7inHjvd59e+uLkEAEBBmCd4+TbyRuX2HXuXuvE5EnkK4LKOGz2XVHg7+jPI74tkF/fh5KePHg7eoaHXLdPY8xpF+nPvwZTITF2m7UVwcsOmOwNZVm0jtxdZxMu8ozat3xdrbsM89doHsou727HTTX51/EQbAAD0jZ4jQcpl878hU5H1LZGjevjxPkjuvob+i1yszneQz4EndSGmC1tNvtTzj6kG3LpZWJfj1Zo8XqnJE/X9hLkYdugi2pHBLKuJT/5s+oS75qm0Cj1ZyipedrurtQ4bu/14wp63buOepN2x00V+OT3JBQAAeTItu+GcJsF/92g5+8l4q2vy8WE9cl7rxM9+V6rP5nknJR/eE7WOniBsTsqdVXUhG5rDqy5XTgffP9IXu9ty7MyaTDyryaopTyJn9e8uGkvJ9qasplKN2gWVvvFdU+17YOappuaNuHnUfPdlFS+v4SGqMem3H72nWvaHEX3XUHd1XpSzqmx0xTZg0xo7erCe/h7vLnHvVvTY6Ty/vO7L9qYIAAAYCKX3Tn6k2ne7hZ0mITh8t7nwiQw13jK8uBYY9jv270ZF7t3VXSPjLxR1N6YbMRc1ze3FDD+eCfe4D6O4/AoPUe+ePtEL5ehQ997f/XKgFujBVvSk36FBTNIMbll14aVBu7Ic3p/ez+dVFcbqZEfx8sWlSYOf9vanziszFURoX+HwxK2Tnob2pxbZZ9wx7W+vr9MkOMTdJV5x68SF2zW/2pVtAACwt0rvnviRmQfv4A9/YRchrNOLGPsko6NGAJCFflxw2/Ice4GP/cxrCDIHHgAAg8aMojmcXTT3xvT8mummtrBE4w7DoCY37k7JxvQy3Y7RNKsn0he5d5fGHQAAg2aI38HLme5GZYYU1xc93XeJAwbO5qRcfVCT8cPPO55LD8PIe1914UGkSysAABgIBX0HDwAAAAAQZbpovnr1yv4EAAAAABRV+fXr16IHWQEAAAAAFFt5ZGSEBh4AAAAADIGyCI07AAAAABgG5Zcv/z/1Pxp5AAAAAFB05XJ5xH4FAAAAABRZWb9/p1p59icAAAAAoKhMy06PpAkAAAAAKDYe3QEAAADAUBD5/wEfKNtmCldN1wAAAABJRU5ErkJggg==)"
      ],
      "metadata": {
        "id": "5zOTsvNMmIje"
      }
    },
    {
      "cell_type": "code",
      "source": [
        "! ./emucon run --id 0 --listen \":4680\""
      ],
      "metadata": {
        "colab": {
          "base_uri": "https://localhost:8080/"
        },
        "id": "5MX0LgT6bunC",
        "outputId": "53efeace-1a81-47b2-9f07-9f2b81b62a0c"
      },
      "execution_count": 23,
      "outputs": [
        {
          "output_type": "stream",
          "name": "stdout",
          "text": [
            "2024/02/10 19:30:12 identity: 0\n",
            "2024/02/10 19:30:12 listening on: :4680\n",
            "2024/02/10 19:30:12 connected to peer: 127.0.0.1:4680\n",
            "2024/02/10 19:30:12 peer connected from: 127.0.0.1:47598\n",
            "^C\n"
          ]
        }
      ]
    },
    {
      "cell_type": "markdown",
      "source": [
        "![picture](https://drive.google.com/uc?export=view&id=1bZPUxAnM8enpXa-3skQh9gNIW6j8lG1s)"
      ],
      "metadata": {
        "id": "glPl3eA3mDpW"
      }
    },
    {
      "cell_type": "code",
      "source": [
        "! ./emucon run --id 1 --listen \":4681\""
      ],
      "metadata": {
        "id": "gTAubQFdfwfu"
      },
      "execution_count": null,
      "outputs": []
    },
    {
      "cell_type": "markdown",
      "source": [
        "![picture](https://drive.google.com/uc?export=view&id=1DjZ7FmRKVf6Soh9i8rTQa8nuESgxT8a9)"
      ],
      "metadata": {
        "id": "S7NKCi-joYV5"
      }
    },
    {
      "cell_type": "code",
      "source": [
        "! ./emucon run --id 2 --listen \":4682\""
      ],
      "metadata": {
        "id": "5bg9XSe_jzBc"
      },
      "execution_count": null,
      "outputs": []
    },
    {
      "cell_type": "markdown",
      "source": [
        "![picture](https://drive.google.com/uc?export=view&id=1L3reqmwRBNufEQ2-hYBdu7qV1Bodr-Xh)"
      ],
      "metadata": {
        "id": "f46f3cC7ozPy"
      }
    },
    {
      "cell_type": "code",
      "source": [
        "! ./emucon run --id 3 --listen \":4683\""
      ],
      "metadata": {
        "id": "ZYn6oUhvjy-e"
      },
      "execution_count": null,
      "outputs": []
    },
    {
      "cell_type": "markdown",
      "source": [
        "![picture](https://drive.google.com/uc?export=view&id=1nN-8r9ERkIinAyXD8M2INPOXRa8IpXAU)"
      ],
      "metadata": {
        "id": "ldTUog-BpWVc"
      }
    },
    {
      "cell_type": "markdown",
      "source": [
        "# Proof Of Authority (POA)\n",
        "It relies on the validator's reputation to make the blockchain network work properly. Here a fixed set of validators (authorities) are responsible for validating and minting new blocks."
      ],
      "metadata": {
        "id": "rVEkf9fTmVe3"
      }
    },
    {
      "cell_type": "code",
      "source": [
        "class Block:\n",
        "    def __init__(self, index, timestamp, transactions, previous_hash, nonce=0):\n",
        "        self.index = index\n",
        "        self.timestamp = timestamp\n",
        "        self.transactions = transactions\n",
        "        self.previous_hash = previous_hash\n",
        "        self.nonce = nonce\n",
        "        self.hash = self.calculate_hash()\n",
        "\n",
        "    def calculate_hash(self):\n",
        "        block_string = json.dumps({\"index\": self.index,\n",
        "                                   \"timestamp\": self.timestamp,\n",
        "                                   \"transactions\": self.transactions,\n",
        "                                   \"previous_hash\": self.previous_hash,\n",
        "                                   \"nonce\": self.nonce}, sort_keys=True).encode()\n",
        "        return hashlib.sha256(block_string).hexdigest()"
      ],
      "metadata": {
        "id": "i3OHyTNEng4H"
      },
      "execution_count": null,
      "outputs": []
    },
    {
      "cell_type": "code",
      "source": [
        "class Blockchain:\n",
        "    def __init__(self):\n",
        "        self.chain = [self.create_genesis_block()]\n",
        "        self.authorities = {}\n",
        "        self.pending_transactions = []\n",
        "        self.difficulty = 2\n",
        "\n",
        "    def create_genesis_block(self):\n",
        "        return Block(0, \"01/01/2022\", [], \"0\")\n",
        "\n",
        "    def get_latest_block(self):\n",
        "        return self.chain[-1]\n",
        "\n",
        "    def add_block(self, new_block):\n",
        "        new_block.previous_hash = self.get_latest_block().hash\n",
        "        new_block.nonce = self.proof_of_work(new_block)\n",
        "        self.chain.append(new_block)\n",
        "\n",
        "    def add_authority(self, authority_name, authority_info):\n",
        "        self.authorities[authority_name] = authority_info\n",
        "\n",
        "    def create_transaction(self, sender, recipient, amount):\n",
        "        self.pending_transactions.append({\"sender\": sender, \"recipient\": recipient, \"amount\": amount})\n",
        "\n",
        "    def mine_pending_transactions(self, miner):\n",
        "        block = Block(len(self.chain), str(time.time()), self.pending_transactions, self.get_latest_block().hash)\n",
        "        self.add_block(block)\n",
        "        self.pending_transactions = []\n",
        "        print(f\"Block mined by {miner}: {block.hash}\")\n",
        "\n",
        "    def proof_of_work(self, block):\n",
        "        nonce = 0\n",
        "        computed_hash = block.calculate_hash()\n",
        "        while not computed_hash.startswith('0' * self.difficulty):\n",
        "            nonce += 1\n",
        "            block.nonce = nonce\n",
        "            computed_hash = block.calculate_hash()\n",
        "        return nonce"
      ],
      "metadata": {
        "id": "_cPWnKQVnhZ3"
      },
      "execution_count": null,
      "outputs": []
    },
    {
      "cell_type": "code",
      "source": [
        "blockchain = Blockchain()\n",
        "\n",
        "# Add authorities\n",
        "blockchain.add_authority(\"Authority1\", {\"name\": \"Authority1\", \"public_key\": \"abc123\"})\n",
        "blockchain.add_authority(\"Authority2\", {\"name\": \"Authority2\", \"public_key\": \"def456\"})\n",
        "\n",
        "# Create transactions\n",
        "blockchain.create_transaction(\"Azeem\", \"Rishabh\", 5)\n",
        "blockchain.create_transaction(\"Rishabh\", \"Azeem\", 3)\n",
        "\n",
        "# Mine pending transactions\n",
        "blockchain.mine_pending_transactions(\"Authority1\")\n",
        "blockchain.mine_pending_transactions(\"Authority2\")\n",
        "\n",
        "# Print blockchain\n",
        "for block in blockchain.chain:\n",
        "    print(\"Block Hash:\", block.hash)\n",
        "    print(\"Previous Hash:\", block.previous_hash)\n",
        "    print(\"Data:\", block.transactions)\n",
        "    print(\"Timestamp:\", block.timestamp)\n",
        "    print(\"Validators/Authorities:\", blockchain.authorities)\n",
        "    print(\"----------------------\")"
      ],
      "metadata": {
        "colab": {
          "base_uri": "https://localhost:8080/"
        },
        "id": "6kY-Fv5invAO",
        "outputId": "41cd6245-d922-4d1e-e2a1-5ae97d3b4332"
      },
      "execution_count": null,
      "outputs": [
        {
          "output_type": "stream",
          "name": "stdout",
          "text": [
            "Block mined by Authority1: 9a205fa9704b8631d1a8678d70e2e703a52bb2536c032bb25be2ec2f9dda27f3\n",
            "Block mined by Authority2: 8bf33a008ccfbc95483ba3b0546038c00c7b11b8a69e85a373bd19391a2d22d0\n",
            "Block Hash: 1eb3b8388d0f3e5281454562abe4c2de04bc24e6c0b8644130a6157fa2346286\n",
            "Previous Hash: 0\n",
            "Data: []\n",
            "Timestamp: 01/01/2022\n",
            "Validators/Authorities: {'Authority1': {'name': 'Authority1', 'public_key': 'abc123'}, 'Authority2': {'name': 'Authority2', 'public_key': 'def456'}}\n",
            "----------------------\n",
            "Block Hash: 9a205fa9704b8631d1a8678d70e2e703a52bb2536c032bb25be2ec2f9dda27f3\n",
            "Previous Hash: 1eb3b8388d0f3e5281454562abe4c2de04bc24e6c0b8644130a6157fa2346286\n",
            "Data: [{'sender': 'Azeem', 'recipient': 'Rishabh', 'amount': 5}, {'sender': 'Rishabh', 'recipient': 'Azeem', 'amount': 3}]\n",
            "Timestamp: 1707293474.683188\n",
            "Validators/Authorities: {'Authority1': {'name': 'Authority1', 'public_key': 'abc123'}, 'Authority2': {'name': 'Authority2', 'public_key': 'def456'}}\n",
            "----------------------\n",
            "Block Hash: 8bf33a008ccfbc95483ba3b0546038c00c7b11b8a69e85a373bd19391a2d22d0\n",
            "Previous Hash: 9a205fa9704b8631d1a8678d70e2e703a52bb2536c032bb25be2ec2f9dda27f3\n",
            "Data: []\n",
            "Timestamp: 1707293474.686799\n",
            "Validators/Authorities: {'Authority1': {'name': 'Authority1', 'public_key': 'abc123'}, 'Authority2': {'name': 'Authority2', 'public_key': 'def456'}}\n",
            "----------------------\n"
          ]
        }
      ]
    },
    {
      "cell_type": "markdown",
      "source": [
        "# Conclusion\n",
        "\n",
        "In conclusion, through the implementation of Proof of Authority (PoA), Proof of Stake (PoS), Practical Byzantine Fault Tolerance (pBFT), and Proof of Elapsed Time (PoET) consensus mechanisms, we have explored a diverse range of approaches to achieve consensus in blockchain networks"
      ],
      "metadata": {
        "id": "q81wuSLBoCKI"
      }
    }
  ]
}